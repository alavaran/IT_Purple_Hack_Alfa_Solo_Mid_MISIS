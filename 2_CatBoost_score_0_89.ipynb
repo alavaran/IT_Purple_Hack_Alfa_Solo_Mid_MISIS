{
  "metadata": {
    "kernelspec": {
      "language": "python",
      "display_name": "Python 3",
      "name": "python3"
    },
    "language_info": {
      "name": "python",
      "version": "3.10.13",
      "mimetype": "text/x-python",
      "codemirror_mode": {
        "name": "ipython",
        "version": 3
      },
      "pygments_lexer": "ipython3",
      "nbconvert_exporter": "python",
      "file_extension": ".py"
    },
    "kaggle": {
      "accelerator": "nvidiaTeslaT4",
      "dataSources": [
        {
          "sourceId": 7798308,
          "sourceType": "datasetVersion",
          "datasetId": 4565742
        }
      ],
      "dockerImageVersionId": 30665,
      "isInternetEnabled": true,
      "language": "python",
      "sourceType": "notebook",
      "isGpuEnabled": true
    },
    "colab": {
      "provenance": [],
      "toc_visible": true
    }
  },
  "nbformat_minor": 0,
  "nbformat": 4,
  "cells": [
    {
      "cell_type": "markdown",
      "source": [
        "# Установка библиотек и загрузка данных"
      ],
      "metadata": {
        "id": "nCZzDTzWNGB0"
      }
    },
    {
      "cell_type": "code",
      "source": [
        "import numpy as np # linear algebra\n",
        "import pandas as pd # data processing, CSV file I/O (e.g. pd.read_csv)\n",
        "from lightgbm import LGBMClassifier\n",
        "from sklearn.metrics import roc_auc_score\n",
        "from sklearn.model_selection import train_test_split\n",
        "from catboost import CatBoostClassifier\n",
        "import seaborn as sns\n",
        "import matplotlib.pyplot as plt\n",
        "import warnings\n",
        "warnings.filterwarnings('ignore')\n",
        "\n",
        "# если запускаем на Kaggle\n",
        "\n",
        "import os\n",
        "for dirname, _, filenames in os.walk('/kaggle/input'):\n",
        "    for filename in filenames:\n",
        "        print(os.path.join(dirname, filename))"
      ],
      "metadata": {
        "_uuid": "8f2839f25d086af736a60e9eeb907d3b93b6e0e5",
        "_cell_guid": "b1076dfc-b9ad-4769-8c92-a6c4dae69d19",
        "execution": {
          "iopub.status.busy": "2024-03-13T23:46:51.580449Z",
          "iopub.execute_input": "2024-03-13T23:46:51.581165Z",
          "iopub.status.idle": "2024-03-13T23:46:51.590815Z",
          "shell.execute_reply.started": "2024-03-13T23:46:51.581128Z",
          "shell.execute_reply": "2024-03-13T23:46:51.589629Z"
        },
        "trusted": true,
        "id": "tHWr8nObe4yL"
      },
      "execution_count": null,
      "outputs": []
    },
    {
      "cell_type": "code",
      "source": [
        "pip install optuna"
      ],
      "metadata": {
        "execution": {
          "iopub.status.busy": "2024-03-13T23:42:02.093791Z",
          "iopub.execute_input": "2024-03-13T23:42:02.094387Z",
          "iopub.status.idle": "2024-03-13T23:42:15.165646Z",
          "shell.execute_reply.started": "2024-03-13T23:42:02.094356Z",
          "shell.execute_reply": "2024-03-13T23:42:15.163981Z"
        },
        "jupyter": {
          "outputs_hidden": true
        },
        "trusted": true,
        "id": "TZpw2bpHe4yM"
      },
      "execution_count": null,
      "outputs": []
    },
    {
      "cell_type": "code",
      "source": [
        "!pip freeze | grep \"numpy\\|pandas\\|lightgbm\\|scikit-learn\""
      ],
      "metadata": {
        "trusted": true,
        "id": "76JREUsve4yM"
      },
      "execution_count": null,
      "outputs": []
    },
    {
      "cell_type": "markdown",
      "source": [
        "Библиотеки:\n",
        "\n",
        "catboost==1.2.2\n",
        "\n",
        "geopandas==0.14.3\n",
        "\n",
        "lightgbm @ file:///tmp/lightgbm/lightgbm-4.2.0-py3-none-manylinux_2_31_x86_64.whl#sha256=26ed21477c12bb26edc4d6d51336cd43d5a8f7daf55ebbe27b0faf50ce96db23\n",
        "\n",
        "msgpack-numpy==0.4.8\n",
        "\n",
        "numpy @ file:///home/conda/feedstock_root/build_artifacts/numpy_1707225380409/work/dist/numpy-1.26.4-cp310-cp310-linux_x86_64.whl#sha256=51131fd8fc130cd168aecaf1bc0ea85f92e8ffebf211772ceb16ac2e7f10d7ca\n",
        "\n",
        "optuna==3.5.0\n",
        "\n",
        "pandas==2.1.4\n",
        "\n",
        "pandas-datareader==0.10.0\n",
        "\n",
        "pandas-profiling==3.6.6\n",
        "\n",
        "pandas-summary==0.2.0\n",
        "\n",
        "pandasql==0.7.3\n",
        "\n",
        "scikit-learn==1.2.2\n",
        "\n",
        "scikit-learn-intelex==2024.1.0\n",
        "\n",
        "seaborn==0.12.2\n",
        "\n",
        "sklearn-pandas==2.2.0\n"
      ],
      "metadata": {
        "id": "hUWT9OCqNV9X"
      }
    },
    {
      "cell_type": "code",
      "source": [
        "train_df = pd.read_parquet('/kaggle/input/train_data.pqt')\n",
        "test_df = pd.read_parquet('/kaggle/input/test_data.pqt')\n",
        "train_df.shape, test_df.shape"
      ],
      "metadata": {
        "execution": {
          "iopub.status.busy": "2024-03-13T23:46:11.546168Z",
          "iopub.execute_input": "2024-03-13T23:46:11.546593Z",
          "iopub.status.idle": "2024-03-13T23:46:12.669098Z",
          "shell.execute_reply.started": "2024-03-13T23:46:11.546548Z",
          "shell.execute_reply": "2024-03-13T23:46:12.668121Z"
        },
        "trusted": true,
        "id": "dHHeW4qte4yM",
        "outputId": "c54b16e7-3108-4baf-fc82-5454e7ceffdc"
      },
      "execution_count": null,
      "outputs": [
        {
          "execution_count": 8,
          "output_type": "execute_result",
          "data": {
            "text/plain": "((600000, 93), (290120, 92))"
          },
          "metadata": {}
        }
      ]
    },
    {
      "cell_type": "markdown",
      "source": [
        "# Заполняем пропуски в фичах и start_cluster(month_6)\n"
      ],
      "metadata": {
        "id": "SyNDswQMNpde"
      }
    },
    {
      "cell_type": "markdown",
      "source": [
        "Наиболее часто стартовый кластер за 6 месяц равен предыдущему.\n",
        "\n",
        "В целом обычно кластер за n-ый месяц равен (n-1)-ому"
      ],
      "metadata": {
        "id": "1MnULhpBNyws"
      }
    },
    {
      "cell_type": "code",
      "source": [
        "test_df['start_cluster'].fillna(method='ffill', inplace=True)"
      ],
      "metadata": {
        "execution": {
          "iopub.status.busy": "2024-03-13T23:46:57.886337Z",
          "iopub.execute_input": "2024-03-13T23:46:57.886722Z",
          "iopub.status.idle": "2024-03-13T23:46:57.954100Z",
          "shell.execute_reply.started": "2024-03-13T23:46:57.886691Z",
          "shell.execute_reply": "2024-03-13T23:46:57.953179Z"
        },
        "jupyter": {
          "outputs_hidden": true
        },
        "trusted": true,
        "id": "5J72Rxkze4yN"
      },
      "execution_count": null,
      "outputs": []
    },
    {
      "cell_type": "code",
      "source": [
        "train_df = train_df.fillna(0)\n",
        "test_df = test_df.fillna(0)"
      ],
      "metadata": {
        "execution": {
          "iopub.status.busy": "2024-03-13T23:47:02.007821Z",
          "iopub.execute_input": "2024-03-13T23:47:02.008599Z",
          "iopub.status.idle": "2024-03-13T23:47:03.425282Z",
          "shell.execute_reply.started": "2024-03-13T23:47:02.008550Z",
          "shell.execute_reply": "2024-03-13T23:47:03.424434Z"
        },
        "trusted": true,
        "id": "k2NkCr8oe4yN"
      },
      "execution_count": null,
      "outputs": []
    },
    {
      "cell_type": "markdown",
      "source": [
        "Выделим фичи"
      ],
      "metadata": {
        "id": "zj_tKxqdOKe4"
      }
    },
    {
      "cell_type": "code",
      "source": [
        "cat_cols = [\n",
        "    \"channel_code\", \"city\", \"city_type\",\n",
        "    \"okved\", \"segment\", \"start_cluster\",\n",
        "    \"index_city_code\", \"ogrn_month\", \"ogrn_year\"\n",
        "]"
      ],
      "metadata": {
        "execution": {
          "iopub.status.busy": "2024-03-13T23:47:06.067486Z",
          "iopub.execute_input": "2024-03-13T23:47:06.068210Z",
          "iopub.status.idle": "2024-03-13T23:47:06.072760Z",
          "shell.execute_reply.started": "2024-03-13T23:47:06.068174Z",
          "shell.execute_reply": "2024-03-13T23:47:06.071732Z"
        },
        "trusted": true,
        "id": "zPC2UvAbe4yN"
      },
      "execution_count": null,
      "outputs": []
    },
    {
      "cell_type": "code",
      "source": [
        "basic_col = [\"id\", \"date\", \"end_cluster\"]\n",
        "num_feat = [col for col in train_df.columns if (col not in basic_col) and (col not in cat_cols)]"
      ],
      "metadata": {
        "execution": {
          "iopub.status.busy": "2024-03-13T23:47:08.940607Z",
          "iopub.execute_input": "2024-03-13T23:47:08.941386Z",
          "iopub.status.idle": "2024-03-13T23:47:08.946279Z",
          "shell.execute_reply.started": "2024-03-13T23:47:08.941355Z",
          "shell.execute_reply": "2024-03-13T23:47:08.945015Z"
        },
        "trusted": true,
        "id": "PstsrKa9e4yN"
      },
      "execution_count": null,
      "outputs": []
    },
    {
      "cell_type": "code",
      "source": [
        "# отмечаем категориальные фичи\n",
        "train_df[cat_cols] = train_df[cat_cols].astype(\"category\")\n",
        "test_df[cat_cols] = test_df[cat_cols].astype(\"category\")"
      ],
      "metadata": {
        "execution": {
          "iopub.status.busy": "2024-03-13T23:47:13.260078Z",
          "iopub.execute_input": "2024-03-13T23:47:13.261020Z",
          "iopub.status.idle": "2024-03-13T23:47:14.457452Z",
          "shell.execute_reply.started": "2024-03-13T23:47:13.260985Z",
          "shell.execute_reply": "2024-03-13T23:47:14.456614Z"
        },
        "trusted": true,
        "id": "fT6uDqGce4yO"
      },
      "execution_count": null,
      "outputs": []
    },
    {
      "cell_type": "markdown",
      "source": [
        "Разделим трейн на обучающую и валидационную выборки"
      ],
      "metadata": {
        "id": "NigxAn-UOMo5"
      }
    },
    {
      "cell_type": "markdown",
      "source": [
        "# Отбор признаков для обучения модели"
      ],
      "metadata": {
        "id": "BGl3NrWMPjbw"
      }
    },
    {
      "cell_type": "code",
      "source": [
        "X = train_df.drop([\"id\", \"date\", \"end_cluster\"], axis=1)\n",
        "y = train_df[\"end_cluster\"]\n",
        "\n",
        "x_train, x_val, y_train, y_val = train_test_split(X, y,\n",
        "                                                  test_size=0.2,\n",
        "                                                  random_state=42)"
      ],
      "metadata": {
        "execution": {
          "iopub.status.busy": "2024-03-13T23:47:16.720453Z",
          "iopub.execute_input": "2024-03-13T23:47:16.720831Z",
          "iopub.status.idle": "2024-03-13T23:47:17.275700Z",
          "shell.execute_reply.started": "2024-03-13T23:47:16.720804Z",
          "shell.execute_reply": "2024-03-13T23:47:17.274889Z"
        },
        "trusted": true,
        "id": "aHKIHnkee4yO"
      },
      "execution_count": null,
      "outputs": []
    },
    {
      "cell_type": "markdown",
      "source": [
        "Обучаем базовую модель CatBoost для того, чтобы получить важности признаков"
      ],
      "metadata": {
        "id": "VYCXF5pLOSff"
      }
    },
    {
      "cell_type": "code",
      "source": [
        "simple_model = CatBoostClassifier(iterations=1000, verbose=True, learning_rate=0.1, random_state=42, depth=6, cat_features=cat_cols, task_type=\"GPU\",loss_function='MultiClass')\n",
        "simple_model.fit(x_train[selected_features], y_train)\n",
        "\n",
        "model_importance = pd.DataFrame({'col': selected_features,\n",
        "                  'importance': simple_model.get_feature_importance()}).sort_values('importance', ascending=False)\n",
        "top_features = list(model_importance['col'])\n"
      ],
      "metadata": {
        "execution": {
          "iopub.status.busy": "2024-03-12T21:29:20.804026Z",
          "iopub.execute_input": "2024-03-12T21:29:20.804381Z",
          "iopub.status.idle": "2024-03-12T21:30:08.797724Z",
          "shell.execute_reply.started": "2024-03-12T21:29:20.804352Z",
          "shell.execute_reply": "2024-03-12T21:30:08.796651Z"
        },
        "jupyter": {
          "outputs_hidden": true
        },
        "trusted": true,
        "id": "MH8kMR77e4yO"
      },
      "execution_count": null,
      "outputs": []
    },
    {
      "cell_type": "code",
      "source": [
        "top_features = ['start_cluster', 'okved', 'index_city_code', 'channel_code', 'city', 'balance_amt_min', 'segment', 'balance_amt_max', 'ogrn_days_end_quarter', 'sum_of_paym_1y', 'ogrn_days_end_month', 'cnt_a_oper_1m', 'min_founderpres',\n",
        " 'ogrn_exist_months', 'ogrn_month', 'ft_registration_date', 'ogrn_year', 'sum_of_paym_6m', 'max_founderpres', 'sum_deb_e_oper_3m', 'balance_amt_avg', 'sum_of_paym_2m', 'sum_cred_e_oper_3m', 'cnt_days_deb_e_oper_3m',\n",
        " 'balance_amt_day_avg', 'cnt_cred_e_oper_3m', 'sum_cred_e_oper_1m', 'sum_cred_h_oper_3m', 'cnt_days_cred_e_oper_3m',\n",
        " 'cnt_deb_e_oper_3m', 'sum_deb_h_oper_3m', 'cnt_a_oper_3m', 'sum_deb_f_oper_3m', 'cnt_cred_e_oper_1m', 'sum_deb_g_oper_3m', 'sum_deb_e_oper_1m',\n",
        " 'cnt_cred_h_oper_3m', 'cnt_deb_h_oper_3m', 'sum_deb_d_oper_3m', 'cnt_deb_e_oper_1m', 'sum_deb_f_oper_1m', 'sum_deb_h_oper_1m',\n",
        " 'cnt_days_cred_e_oper_1m', 'cnt_deb_g_oper_3m', 'cnt_days_cred_h_oper_3m', 'sum_cred_g_oper_3m', 'sum_c_oper_3m',\n",
        " 'sum_a_oper_3m', 'sum_cred_h_oper_1m', 'city_type', 'cnt_deb_d_oper_3m', 'sum_deb_d_oper_1m', 'cnt_days_deb_e_oper_1m', 'cnt_deb_f_oper_3m', 'sum_deb_g_oper_1m', 'cnt_days_deb_h_oper_3m', 'cnt_days_deb_f_oper_3m',\n",
        " 'cnt_c_oper_3m', 'cnt_days_deb_g_oper_3m', 'cnt_b_oper_1m', 'cnt_days_deb_h_oper_1m', 'cnt_days_cred_h_oper_1m',\n",
        " 'cnt_deb_f_oper_1m', 'sum_cred_f_oper_3m', 'cnt_days_cred_g_oper_1m', 'cnt_cred_g_oper_3m', 'sum_cred_d_oper_3m', 'sum_b_oper_3m', 'sum_c_oper_1m', 'sum_a_oper_1m', 'cnt_deb_g_oper_1m', 'cnt_deb_h_oper_1m',\n",
        "                'cnt_b_oper_3m', 'cnt_days_cred_f_oper_1m', 'cnt_c_oper_1m', 'cnt_days_deb_g_oper_1m',\n",
        "                'cnt_days_deb_f_oper_1m', 'sum_cred_g_oper_1m', 'cnt_cred_h_oper_1m', 'cnt_cred_d_oper_1m', 'sum_b_oper_1m', 'cnt_deb_d_oper_1m', 'cnt_cred_f_oper_3m',\n",
        " 'cnt_cred_d_oper_3m', 'sum_cred_f_oper_1m', 'cnt_cred_f_oper_1m', 'sum_cred_d_oper_1m', 'cnt_cred_g_oper_1m', 'cnt_days_cred_g_oper_3m', 'cnt_days_cred_f_oper_3m']"
      ],
      "metadata": {
        "execution": {
          "iopub.status.busy": "2024-03-13T23:47:26.209158Z",
          "iopub.execute_input": "2024-03-13T23:47:26.209555Z",
          "iopub.status.idle": "2024-03-13T23:47:26.218635Z",
          "shell.execute_reply.started": "2024-03-13T23:47:26.209523Z",
          "shell.execute_reply": "2024-03-13T23:47:26.217663Z"
        },
        "trusted": true,
        "id": "RF-6MiPue4yO"
      },
      "execution_count": null,
      "outputs": []
    },
    {
      "cell_type": "code",
      "source": [
        "selected_features = top_features[:80]\n",
        "cat_feat = [col for col in selected_features if train_df[col].dtype.name!='float64']"
      ],
      "metadata": {
        "execution": {
          "iopub.status.busy": "2024-03-13T23:47:39.323646Z",
          "iopub.execute_input": "2024-03-13T23:47:39.324499Z",
          "iopub.status.idle": "2024-03-13T23:47:39.330121Z",
          "shell.execute_reply.started": "2024-03-13T23:47:39.324465Z",
          "shell.execute_reply": "2024-03-13T23:47:39.329105Z"
        },
        "trusted": true,
        "id": "esoL2xT1e4yP"
      },
      "execution_count": null,
      "outputs": []
    },
    {
      "cell_type": "markdown",
      "source": [
        "col\timportance\n",
        "\n",
        "5\tstart_cluster\t12.153636\n",
        "\n",
        "3\tokved\t7.426447\n",
        "\n",
        "6\tindex_city_code\t5.355152\n",
        "\n",
        "0\tchannel_code\t5.189536\n",
        "\n",
        "1\tcity\t4.245877\n",
        "\n",
        "11\tbalance_amt_min\t4.008148\n",
        "\n",
        "4\tsegment\t3.575472\n",
        "\n",
        "10\tbalance_amt_max\t3.244023\n",
        "\n",
        "14\togrn_days_end_quarter\t3.010206\n",
        "\n",
        "21\tsum_of_paym_1y\t2.628968\n",
        "\n",
        "13\togrn_days_end_month\t2.615332\n",
        "\n",
        "17\tmin_founderpres\t2.355324\n",
        "\n",
        "18\togrn_exist_months\t2.277854\n",
        "\n",
        "7\togrn_month\t2.272347\n",
        "\n",
        "15\tft_registration_date\t2.151408\n",
        "\n",
        "8\togrn_year\t2.128810"
      ],
      "metadata": {
        "id": "4jfysxnBOmnt"
      }
    },
    {
      "cell_type": "markdown",
      "source": [
        "Как считается метрика:"
      ],
      "metadata": {
        "id": "UGAWMRdQQTXu"
      }
    },
    {
      "cell_type": "code",
      "source": [
        "def weighted_roc_auc(y_true, y_pred, labels, weights_dict):\n",
        "    unnorm_weights = np.array([weights_dict[label] for label in labels])\n",
        "    weights = unnorm_weights / unnorm_weights.sum()\n",
        "    classes_roc_auc = roc_auc_score(y_true, y_pred, labels=labels,\n",
        "                                    multi_class=\"ovr\", average=None)\n",
        "    return sum(weights * classes_roc_auc)"
      ],
      "metadata": {
        "id": "6lJ3Jv4mQQCO"
      },
      "execution_count": null,
      "outputs": []
    },
    {
      "cell_type": "code",
      "source": [
        "cluster_weights = pd.read_excel(\"/kaggle/input/cluster_weights.xlsx\").set_index(\"cluster\")\n",
        "weights_dict = cluster_weights[\"unnorm_weight\"].to_dict()"
      ],
      "metadata": {
        "id": "55QTbVVgQ6Af"
      },
      "execution_count": null,
      "outputs": []
    },
    {
      "cell_type": "markdown",
      "source": [
        "Построим зависимость weighted_roc_auc от числа фичей. Постепенно уменьшаем число фичей и обучаем модель, в какой-то момент качество решения начинает стремительно падать - это предельное количество фичей для работы модели"
      ],
      "metadata": {
        "id": "DcIE5eTbOvIF"
      }
    },
    {
      "cell_type": "code",
      "source": [
        "from sklearn.model_selection import StratifiedKFold\n",
        "from tqdm.auto import tqdm"
      ],
      "metadata": {
        "execution": {
          "iopub.status.busy": "2024-03-11T19:12:26.871609Z",
          "iopub.execute_input": "2024-03-11T19:12:26.872453Z",
          "iopub.status.idle": "2024-03-11T19:12:26.876371Z",
          "shell.execute_reply.started": "2024-03-11T19:12:26.872419Z",
          "shell.execute_reply": "2024-03-11T19:12:26.875485Z"
        },
        "trusted": true,
        "id": "IGTZeSc_e4yP"
      },
      "execution_count": null,
      "outputs": []
    },
    {
      "cell_type": "code",
      "source": [
        "# считается долго\n",
        "\n",
        "roc_auc_df = pd.DataFrame(columns=['num_features', 'roc_auc'])\n",
        "\n",
        "for i in tqdm(range( len(top_features), 4, -3)):\n",
        "\n",
        "    roc_tmp = []\n",
        "    cat_feat = [col for col in top_features[:i] if train_df[col].dtype.name!='float64']\n",
        "    model = CatBoostClassifier(iterations=1000, verbose=True,\n",
        "                               learning_rate=0.1, random_state=42,\n",
        "                               depth=6, cat_features=cat_feat,\n",
        "                               task_type=\"GPU\",loss_function='MultiClass')\n",
        "\n",
        "    model.fit( x_train[top_features[:i]], y_train )\n",
        "\n",
        "    preds_test = model.predict_proba(x_val[top_features[:i]])\n",
        "\n",
        "    w_roc_auc =  weighted_roc_auc(y_val, preds_test, model.classes_, weights_dict)\n",
        "\n",
        "    roc_auc_df.loc[len(roc_auc_df)] = [i, w_roc_auc]"
      ],
      "metadata": {
        "execution": {
          "iopub.status.busy": "2024-03-11T20:45:13.803389Z",
          "iopub.execute_input": "2024-03-11T20:45:13.803761Z",
          "iopub.status.idle": "2024-03-11T21:08:38.956156Z",
          "shell.execute_reply.started": "2024-03-11T20:45:13.803729Z",
          "shell.execute_reply": "2024-03-11T21:08:38.955136Z"
        },
        "jupyter": {
          "outputs_hidden": true
        },
        "trusted": true,
        "id": "QhgliHrBe4yP"
      },
      "execution_count": null,
      "outputs": []
    },
    {
      "cell_type": "code",
      "source": [
        "roc_auc_df['num_features'] = roc_auc_df['num_features'].astype(int)\n",
        "\n",
        "sns.set_theme(font_scale = 1, )\n",
        "plt.figure(figsize=(15, 7))\n",
        "sns.lineplot(data=roc_auc_df, x='num_features', y='roc_auc', label='roc_auc')\n",
        "plt.grid(True)\n",
        "plt.xlabel('Число признаков в модели')\n",
        "plt.xticks(roc_auc_df['num_features'].astype(int))\n",
        "plt.legend()"
      ],
      "metadata": {
        "execution": {
          "iopub.status.busy": "2024-03-11T21:16:06.567720Z",
          "iopub.execute_input": "2024-03-11T21:16:06.568107Z",
          "iopub.status.idle": "2024-03-11T21:16:07.208034Z",
          "shell.execute_reply.started": "2024-03-11T21:16:06.568077Z",
          "shell.execute_reply": "2024-03-11T21:16:07.207074Z"
        },
        "trusted": true,
        "id": "_NWx9I3Ke4yQ",
        "outputId": "c3c809e6-4c0a-4d18-8e2d-333b682653ef"
      },
      "execution_count": null,
      "outputs": [
        {
          "name": "stderr",
          "text": "/opt/conda/lib/python3.10/site-packages/seaborn/_oldcore.py:1119: FutureWarning: use_inf_as_na option is deprecated and will be removed in a future version. Convert inf values to NaN before operating instead.\n  with pd.option_context('mode.use_inf_as_na', True):\n/opt/conda/lib/python3.10/site-packages/seaborn/_oldcore.py:1119: FutureWarning: use_inf_as_na option is deprecated and will be removed in a future version. Convert inf values to NaN before operating instead.\n  with pd.option_context('mode.use_inf_as_na', True):\n",
          "output_type": "stream"
        },
        {
          "execution_count": 57,
          "output_type": "execute_result",
          "data": {
            "text/plain": "<matplotlib.legend.Legend at 0x7bad59dee6b0>"
          },
          "metadata": {}
        },
        {
          "output_type": "display_data",
          "data": {
            "text/plain": "<Figure size 1500x700 with 1 Axes>",
            "image/png": "[encoded data removed]"
          },
          "metadata": {}
        }
      ]
    },
    {
      "cell_type": "markdown",
      "source": [
        "Видно, что метрика выходит на плато, когда число признаков достигает примерно 45-55 фичей"
      ],
      "metadata": {
        "id": "v8Mt3-FLO_vh"
      }
    },
    {
      "cell_type": "code",
      "source": [
        "selected_features = top_features[:51]\n",
        "cat_feat = [col for col in selected_features if train_df[col].dtype.name!='float64']"
      ],
      "metadata": {
        "id": "VuAnDVWfUC_N"
      },
      "execution_count": null,
      "outputs": []
    },
    {
      "cell_type": "markdown",
      "source": [
        "# Оптимизация гиперпараметров"
      ],
      "metadata": {
        "id": "xSg9-xc9Q9nx"
      }
    },
    {
      "cell_type": "code",
      "source": [
        "import optuna\n",
        "\n",
        "def objective(trial):\n",
        "\n",
        "    # 1. разделяем случайным образом выборку X_cv, y_cv на обучающую, валидационную и тестовую\n",
        "    x_train, x_valid, y_train, y_valid = train_test_split(X, y, test_size=0.2, random_state=42)\n",
        "\n",
        "    # 2. назначаем параметры и значения для перебора\n",
        "    param = {\n",
        "        \"iterations\": trial.suggest_int(\"iterations\", 800, 1500),\n",
        "        \"iterations\": 1000,\n",
        "        \"learning_rate\": trial.suggest_float(\"learning_rate\", 0.001, 1),\n",
        "        \"l2_leaf_reg\": trial.suggest_float(\"l2_leaf_reg\", 1e-3, 100.0, log=True),  # L2 регуляризация\n",
        "        \"colsample_bylevel\": trial.suggest_float(\"colsample_bylevel\", 0.01, 1),  # Сэмплирование признаков на уровне дерева\n",
        "        \"bagging_temperature\": trial.suggest_float(\"bagging_temperature\", 0.0, 10.0),  # Температура бэггинга\n",
        "        \"random_strength\": trial.suggest_float(\"random_strength\", 0.0, 100.0),  # Случайность при построении деревьев\n",
        "        \"border_count\": trial.suggest_int(\"border_count\", 1, 600),  # border_count\n",
        "        'min_data_in_leaf': trial.suggest_int('min_data_in_leaf', 1, 100),\n",
        "        'max_depth': trial.suggest_int('max_depth', 1, 10),\n",
        "        'random_seed': trial.suggest_int('random_seed', 1, 100)\n",
        "    }\n",
        "\n",
        "    # 3. обучаем модель с выбранными параметрами\n",
        "    model_cv = CatBoostClassifier(**param, cat_features=cat_feat, task_type=\"GPU\",loss_function='MultiClass')\n",
        "    model_cv.fit(x_train[selected_features], y_train, verbose=False)\n",
        "\n",
        "    # 4. делаем предсказание и возвращаем значение метрики\n",
        "    preds = model_cv.predict_proba(x_val[selected_features])\n",
        "\n",
        "    w_roc_auc = weighted_roc_auc(y_val, preds, model_cv.classes_, weights_dict)\n",
        "\n",
        "    return w_roc_auc"
      ],
      "metadata": {
        "execution": {
          "iopub.status.busy": "2024-03-12T22:44:53.608510Z",
          "iopub.execute_input": "2024-03-12T22:44:53.609261Z",
          "iopub.status.idle": "2024-03-12T22:44:53.617674Z",
          "shell.execute_reply.started": "2024-03-12T22:44:53.609225Z",
          "shell.execute_reply": "2024-03-12T22:44:53.616736Z"
        },
        "trusted": true,
        "id": "NJKbnWm2e4yQ"
      },
      "execution_count": null,
      "outputs": []
    },
    {
      "cell_type": "code",
      "source": [
        "study = optuna.create_study(direction=\"maximize\")\n",
        "study.optimize(objective, timeout=1800)\n",
        "\n",
        "# Получение лучших параметров\n",
        "best_params = study.best_params\n",
        "print(\"Best Params:\", best_params)"
      ],
      "metadata": {
        "execution": {
          "iopub.status.busy": "2024-03-12T22:44:56.471279Z",
          "iopub.execute_input": "2024-03-12T22:44:56.471622Z",
          "iopub.status.idle": "2024-03-12T22:50:02.119973Z",
          "shell.execute_reply.started": "2024-03-12T22:44:56.471585Z",
          "shell.execute_reply": "2024-03-12T22:50:02.119023Z"
        },
        "trusted": true,
        "id": "hrilVBAje4yQ"
      },
      "execution_count": null,
      "outputs": []
    },
    {
      "cell_type": "markdown",
      "source": [
        "Наиболее значимые фичи:  learning_rate,random_state и глубина дерева. Остальные параметры слабо влияют на производительность модели в данном случае"
      ],
      "metadata": {
        "id": "riS9eQoDSEZk"
      }
    },
    {
      "cell_type": "markdown",
      "source": [
        "# Обучение модели"
      ],
      "metadata": {
        "id": "4UoHI1G6RyUJ"
      }
    },
    {
      "cell_type": "code",
      "source": [
        "model = CatBoostClassifier(iterations=1100,\n",
        "                           verbose=True,\n",
        "                           learning_rate=0.1,\n",
        "                           random_state=42,\n",
        "                           depth=6,\n",
        "                           cat_features=cat_feat,\n",
        "                           task_type=\"GPU\",\n",
        "                           loss_function='MultiClass')\n",
        "model.fit(x_train[selected_features], y_train)"
      ],
      "metadata": {
        "id": "otLXZrTvRysH"
      },
      "execution_count": null,
      "outputs": []
    },
    {
      "cell_type": "code",
      "source": [
        "y_pred_proba = model.predict_proba(x_val[selected_features])\n",
        "y_pred_proba.shape"
      ],
      "metadata": {
        "execution": {
          "iopub.status.busy": "2024-03-13T23:49:35.975633Z",
          "iopub.execute_input": "2024-03-13T23:49:35.976718Z",
          "iopub.status.idle": "2024-03-13T23:49:37.355624Z",
          "shell.execute_reply.started": "2024-03-13T23:49:35.976683Z",
          "shell.execute_reply": "2024-03-13T23:49:37.354643Z"
        },
        "trusted": true,
        "id": "LK_M9Cace4yQ",
        "outputId": "d7e95ab5-8b75-4b98-a3f2-f2d8f69dc322"
      },
      "execution_count": null,
      "outputs": [
        {
          "execution_count": 26,
          "output_type": "execute_result",
          "data": {
            "text/plain": "(120000, 17)"
          },
          "metadata": {}
        }
      ]
    },
    {
      "cell_type": "code",
      "source": [
        "# скор, который получается на валидации\n",
        "weighted_roc_auc(y_val, y_pred_proba, model.classes_, weights_dict)"
      ],
      "metadata": {
        "execution": {
          "iopub.status.busy": "2024-03-13T23:49:39.901989Z",
          "iopub.execute_input": "2024-03-13T23:49:39.902376Z",
          "iopub.status.idle": "2024-03-13T23:49:41.026458Z",
          "shell.execute_reply.started": "2024-03-13T23:49:39.902346Z",
          "shell.execute_reply": "2024-03-13T23:49:41.025470Z"
        },
        "trusted": true,
        "id": "-hGYkwtje4yR",
        "outputId": "5714e792-f0c0-4657-c3d7-15761da9fba6"
      },
      "execution_count": null,
      "outputs": [
        {
          "execution_count": 27,
          "output_type": "execute_result",
          "data": {
            "text/plain": "0.9556336265044427"
          },
          "metadata": {}
        }
      ]
    },
    {
      "cell_type": "markdown",
      "source": [
        "Метрика на валидации 0.9556336265044427"
      ],
      "metadata": {
        "id": "CjXcxINsR6qV"
      }
    },
    {
      "cell_type": "markdown",
      "source": [
        "# Прогноз на тестовой выборке"
      ],
      "metadata": {
        "id": "mvB2RfNJS9Z2"
      }
    },
    {
      "cell_type": "code",
      "source": [
        "sample_submission_df = pd.read_csv(\"/kaggle/input/sample_submission.csv\")"
      ],
      "metadata": {
        "execution": {
          "iopub.status.busy": "2024-03-13T23:49:46.134905Z",
          "iopub.execute_input": "2024-03-13T23:49:46.135270Z",
          "iopub.status.idle": "2024-03-13T23:49:46.380603Z",
          "shell.execute_reply.started": "2024-03-13T23:49:46.135242Z",
          "shell.execute_reply": "2024-03-13T23:49:46.379814Z"
        },
        "trusted": true,
        "id": "ihAnOgKXe4yR"
      },
      "execution_count": null,
      "outputs": []
    },
    {
      "cell_type": "code",
      "source": [
        "sample_submission_df.head()"
      ],
      "metadata": {
        "execution": {
          "iopub.status.busy": "2024-03-12T21:34:34.539981Z",
          "iopub.execute_input": "2024-03-12T21:34:34.540830Z",
          "iopub.status.idle": "2024-03-12T21:34:34.565622Z",
          "shell.execute_reply.started": "2024-03-12T21:34:34.540796Z",
          "shell.execute_reply": "2024-03-12T21:34:34.564672Z"
        },
        "trusted": true,
        "id": "l3ENYCZle4yR",
        "outputId": "3002b291-f529-4d23-b5c1-58ed1942557a"
      },
      "execution_count": null,
      "outputs": [
        {
          "execution_count": 215,
          "output_type": "execute_result",
          "data": {
            "text/plain": "       id  {other}    {}  {α, β}  {α, γ}  {α, δ}  {α, ε, η}  {α, ε, θ}  \\\n0  200000      0.2  0.05    0.05    0.05    0.05       0.05       0.05   \n1  200001      0.2  0.05    0.05    0.05    0.05       0.05       0.05   \n2  200002      0.2  0.05    0.05    0.05    0.05       0.05       0.05   \n3  200003      0.2  0.05    0.05    0.05    0.05       0.05       0.05   \n4  200004      0.2  0.05    0.05    0.05    0.05       0.05       0.05   \n\n   {α, ε, ψ}  {α, ε}  {α, η}  {α, θ}  {α, λ}  {α, μ}  {α, π}  {α, ψ}   {α}  \\\n0       0.05    0.05    0.05    0.05    0.05    0.05    0.05    0.05  0.05   \n1       0.05    0.05    0.05    0.05    0.05    0.05    0.05    0.05  0.05   \n2       0.05    0.05    0.05    0.05    0.05    0.05    0.05    0.05  0.05   \n3       0.05    0.05    0.05    0.05    0.05    0.05    0.05    0.05  0.05   \n4       0.05    0.05    0.05    0.05    0.05    0.05    0.05    0.05  0.05   \n\n    {λ}  \n0  0.05  \n1  0.05  \n2  0.05  \n3  0.05  \n4  0.05  ",
            "text/html": "<div>\n<style scoped>\n    .dataframe tbody tr th:only-of-type {\n        vertical-align: middle;\n    }\n\n    .dataframe tbody tr th {\n        vertical-align: top;\n    }\n\n    .dataframe thead th {\n        text-align: right;\n    }\n</style>\n<table border=\"1\" class=\"dataframe\">\n  <thead>\n    <tr style=\"text-align: right;\">\n      <th></th>\n      <th>id</th>\n      <th>{other}</th>\n      <th>{}</th>\n      <th>{α, β}</th>\n      <th>{α, γ}</th>\n      <th>{α, δ}</th>\n      <th>{α, ε, η}</th>\n      <th>{α, ε, θ}</th>\n      <th>{α, ε, ψ}</th>\n      <th>{α, ε}</th>\n      <th>{α, η}</th>\n      <th>{α, θ}</th>\n      <th>{α, λ}</th>\n      <th>{α, μ}</th>\n      <th>{α, π}</th>\n      <th>{α, ψ}</th>\n      <th>{α}</th>\n      <th>{λ}</th>\n    </tr>\n  </thead>\n  <tbody>\n    <tr>\n      <th>0</th>\n      <td>200000</td>\n      <td>0.2</td>\n      <td>0.05</td>\n      <td>0.05</td>\n      <td>0.05</td>\n      <td>0.05</td>\n      <td>0.05</td>\n      <td>0.05</td>\n      <td>0.05</td>\n      <td>0.05</td>\n      <td>0.05</td>\n      <td>0.05</td>\n      <td>0.05</td>\n      <td>0.05</td>\n      <td>0.05</td>\n      <td>0.05</td>\n      <td>0.05</td>\n      <td>0.05</td>\n    </tr>\n    <tr>\n      <th>1</th>\n      <td>200001</td>\n      <td>0.2</td>\n      <td>0.05</td>\n      <td>0.05</td>\n      <td>0.05</td>\n      <td>0.05</td>\n      <td>0.05</td>\n      <td>0.05</td>\n      <td>0.05</td>\n      <td>0.05</td>\n      <td>0.05</td>\n      <td>0.05</td>\n      <td>0.05</td>\n      <td>0.05</td>\n      <td>0.05</td>\n      <td>0.05</td>\n      <td>0.05</td>\n      <td>0.05</td>\n    </tr>\n    <tr>\n      <th>2</th>\n      <td>200002</td>\n      <td>0.2</td>\n      <td>0.05</td>\n      <td>0.05</td>\n      <td>0.05</td>\n      <td>0.05</td>\n      <td>0.05</td>\n      <td>0.05</td>\n      <td>0.05</td>\n      <td>0.05</td>\n      <td>0.05</td>\n      <td>0.05</td>\n      <td>0.05</td>\n      <td>0.05</td>\n      <td>0.05</td>\n      <td>0.05</td>\n      <td>0.05</td>\n      <td>0.05</td>\n    </tr>\n    <tr>\n      <th>3</th>\n      <td>200003</td>\n      <td>0.2</td>\n      <td>0.05</td>\n      <td>0.05</td>\n      <td>0.05</td>\n      <td>0.05</td>\n      <td>0.05</td>\n      <td>0.05</td>\n      <td>0.05</td>\n      <td>0.05</td>\n      <td>0.05</td>\n      <td>0.05</td>\n      <td>0.05</td>\n      <td>0.05</td>\n      <td>0.05</td>\n      <td>0.05</td>\n      <td>0.05</td>\n      <td>0.05</td>\n    </tr>\n    <tr>\n      <th>4</th>\n      <td>200004</td>\n      <td>0.2</td>\n      <td>0.05</td>\n      <td>0.05</td>\n      <td>0.05</td>\n      <td>0.05</td>\n      <td>0.05</td>\n      <td>0.05</td>\n      <td>0.05</td>\n      <td>0.05</td>\n      <td>0.05</td>\n      <td>0.05</td>\n      <td>0.05</td>\n      <td>0.05</td>\n      <td>0.05</td>\n      <td>0.05</td>\n      <td>0.05</td>\n      <td>0.05</td>\n    </tr>\n  </tbody>\n</table>\n</div>"
          },
          "metadata": {}
        }
      ]
    },
    {
      "cell_type": "markdown",
      "source": [
        "Обучаем на всем трейне, это немного улучшает метрику"
      ],
      "metadata": {
        "id": "fA6brbptUOCB"
      }
    },
    {
      "cell_type": "code",
      "source": [
        "model_full = CatBoostClassifier(iterations=1100,\n",
        "                           verbose=True,\n",
        "                           learning_rate=0.1,\n",
        "                           random_state=42,\n",
        "                           depth=6,\n",
        "                           cat_features=cat_feat,\n",
        "                           task_type=\"GPU\",\n",
        "                           loss_function='MultiClass')\n",
        "model_full.fit(X[selected_features], y)"
      ],
      "metadata": {
        "id": "R4dViG5nfBfM"
      },
      "execution_count": null,
      "outputs": []
    },
    {
      "cell_type": "code",
      "source": [
        "# для построения прогноза берем month_6\n",
        "last_m_test_df = test_df[test_df[\"date\"] == \"month_6\"]\n",
        "last_m_test_df = last_m_test_df.drop([\"id\", \"date\"], axis=1)\n",
        "test_pred_proba = model_full.predict_proba(last_m_test_df[selected_features])\n",
        "test_pred_proba_df = pd.DataFrame(test_pred_proba, columns=model.classes_)\n",
        "sorted_classes = sorted(test_pred_proba_df.columns.to_list())\n",
        "test_pred_proba_df = test_pred_proba_df[sorted_classes]"
      ],
      "metadata": {
        "execution": {
          "iopub.status.busy": "2024-03-13T23:49:50.021342Z",
          "iopub.execute_input": "2024-03-13T23:49:50.021963Z",
          "iopub.status.idle": "2024-03-13T23:49:51.332414Z",
          "shell.execute_reply.started": "2024-03-13T23:49:50.021897Z",
          "shell.execute_reply": "2024-03-13T23:49:51.331547Z"
        },
        "trusted": true,
        "id": "J8x3wmaje4yR"
      },
      "execution_count": null,
      "outputs": []
    },
    {
      "cell_type": "code",
      "source": [
        "test_pred_proba_df.shape"
      ],
      "metadata": {
        "execution": {
          "iopub.status.busy": "2024-03-12T21:35:17.976110Z",
          "iopub.execute_input": "2024-03-12T21:35:17.976469Z",
          "iopub.status.idle": "2024-03-12T21:35:17.986685Z",
          "shell.execute_reply.started": "2024-03-12T21:35:17.976437Z",
          "shell.execute_reply": "2024-03-12T21:35:17.985674Z"
        },
        "trusted": true,
        "id": "VTx64bUce4yR",
        "outputId": "fb406d12-9530-4984-bcde-96e6ba1c5f8c"
      },
      "execution_count": null,
      "outputs": [
        {
          "execution_count": 219,
          "output_type": "execute_result",
          "data": {
            "text/plain": "(100000, 17)"
          },
          "metadata": {}
        }
      ]
    },
    {
      "cell_type": "code",
      "source": [
        "sample_submission_df"
      ],
      "metadata": {
        "execution": {
          "iopub.status.busy": "2024-03-13T11:33:07.240596Z",
          "iopub.execute_input": "2024-03-13T11:33:07.240984Z",
          "iopub.status.idle": "2024-03-13T11:33:07.268054Z",
          "shell.execute_reply.started": "2024-03-13T11:33:07.240955Z",
          "shell.execute_reply": "2024-03-13T11:33:07.267106Z"
        },
        "trusted": true,
        "id": "hU6MlX_Te4yS",
        "outputId": "8ead6443-d68e-4561-bb48-5366a8d2bb93"
      },
      "execution_count": null,
      "outputs": [
        {
          "execution_count": 50,
          "output_type": "execute_result",
          "data": {
            "text/plain": "           id   {other}        {}    {α, β}    {α, γ}    {α, δ}  {α, ε, η}  \\\n0      200000  0.008290  0.017936  0.033384  0.029434  0.004381   0.000259   \n1      200001  0.005533  0.581520  0.000488  0.001432  0.000659   0.000036   \n2      200002  0.427380  0.003521  0.001955  0.135300  0.010503   0.000680   \n3      200003  0.018511  0.692422  0.000336  0.000629  0.000243   0.000384   \n4      200004  0.066491  0.168253  0.010378  0.009161  0.001071   0.001708   \n...       ...       ...       ...       ...       ...       ...        ...   \n99995  299995  0.025461  0.367640  0.001300  0.006711  0.007496   0.000022   \n99996  299996  0.022782  0.044685  0.016422  0.048064  0.006579   0.000101   \n99997  299997  0.028238  0.017903  0.032413  0.061892  0.009019   0.000236   \n99998  299998  0.054958  0.239949  0.007651  0.043049  0.002264   0.000676   \n99999  299999  0.028553  0.050851  0.014840  0.050070  0.010102   0.000429   \n\n       {α, ε, θ}  {α, ε, ψ}    {α, ε}    {α, η}    {α, θ}    {α, λ}    {α, μ}  \\\n0       0.002000   0.001421  0.010209  0.002587  0.022398  0.000205  0.000961   \n1       0.000112   0.000008  0.001660  0.008938  0.000664  0.000096  0.001223   \n2       0.001319   0.023701  0.091856  0.008549  0.017422  0.014836  0.001274   \n3       0.000099   0.000158  0.000706  0.023218  0.002989  0.000076  0.001008   \n4       0.000263   0.000066  0.009495  0.065212  0.003598  0.000091  0.007802   \n...          ...        ...       ...       ...       ...       ...       ...   \n99995   0.000592   0.000005  0.003770  0.000964  0.000853  0.001035  0.000178   \n99996   0.000333   0.000086  0.013382  0.003907  0.012318  0.005406  0.001050   \n99997   0.000627   0.000343  0.015594  0.004984  0.008794  0.000659  0.001808   \n99998   0.000926   0.000188  0.009583  0.015539  0.007505  0.002815  0.000844   \n99999   0.000551   0.000690  0.012442  0.005831  0.013321  0.002063  0.002852   \n\n             {α, π}    {α, ψ}       {α}       {λ}  \n0      5.501151e-07  0.003458  0.863068  0.000009  \n1      1.571752e-07  0.000298  0.397168  0.000165  \n2      1.681705e-06  0.049961  0.211623  0.000117  \n3      5.983105e-08  0.000145  0.259071  0.000006  \n4      4.052950e-07  0.000288  0.656121  0.000003  \n...             ...       ...       ...       ...  \n99995  8.701694e-06  0.000990  0.582795  0.000178  \n99996  3.303442e-06  0.006060  0.818437  0.000385  \n99997  4.034413e-06  0.027538  0.789947  0.000001  \n99998  3.281376e-06  0.014818  0.598863  0.000371  \n99999  3.708986e-07  0.003680  0.803711  0.000014  \n\n[100000 rows x 18 columns]",
            "text/html": "<div>\n<style scoped>\n    .dataframe tbody tr th:only-of-type {\n        vertical-align: middle;\n    }\n\n    .dataframe tbody tr th {\n        vertical-align: top;\n    }\n\n    .dataframe thead th {\n        text-align: right;\n    }\n</style>\n<table border=\"1\" class=\"dataframe\">\n  <thead>\n    <tr style=\"text-align: right;\">\n      <th></th>\n      <th>id</th>\n      <th>{other}</th>\n      <th>{}</th>\n      <th>{α, β}</th>\n      <th>{α, γ}</th>\n      <th>{α, δ}</th>\n      <th>{α, ε, η}</th>\n      <th>{α, ε, θ}</th>\n      <th>{α, ε, ψ}</th>\n      <th>{α, ε}</th>\n      <th>{α, η}</th>\n      <th>{α, θ}</th>\n      <th>{α, λ}</th>\n      <th>{α, μ}</th>\n      <th>{α, π}</th>\n      <th>{α, ψ}</th>\n      <th>{α}</th>\n      <th>{λ}</th>\n    </tr>\n  </thead>\n  <tbody>\n    <tr>\n      <th>0</th>\n      <td>200000</td>\n      <td>0.008290</td>\n      <td>0.017936</td>\n      <td>0.033384</td>\n      <td>0.029434</td>\n      <td>0.004381</td>\n      <td>0.000259</td>\n      <td>0.002000</td>\n      <td>0.001421</td>\n      <td>0.010209</td>\n      <td>0.002587</td>\n      <td>0.022398</td>\n      <td>0.000205</td>\n      <td>0.000961</td>\n      <td>5.501151e-07</td>\n      <td>0.003458</td>\n      <td>0.863068</td>\n      <td>0.000009</td>\n    </tr>\n    <tr>\n      <th>1</th>\n      <td>200001</td>\n      <td>0.005533</td>\n      <td>0.581520</td>\n      <td>0.000488</td>\n      <td>0.001432</td>\n      <td>0.000659</td>\n      <td>0.000036</td>\n      <td>0.000112</td>\n      <td>0.000008</td>\n      <td>0.001660</td>\n      <td>0.008938</td>\n      <td>0.000664</td>\n      <td>0.000096</td>\n      <td>0.001223</td>\n      <td>1.571752e-07</td>\n      <td>0.000298</td>\n      <td>0.397168</td>\n      <td>0.000165</td>\n    </tr>\n    <tr>\n      <th>2</th>\n      <td>200002</td>\n      <td>0.427380</td>\n      <td>0.003521</td>\n      <td>0.001955</td>\n      <td>0.135300</td>\n      <td>0.010503</td>\n      <td>0.000680</td>\n      <td>0.001319</td>\n      <td>0.023701</td>\n      <td>0.091856</td>\n      <td>0.008549</td>\n      <td>0.017422</td>\n      <td>0.014836</td>\n      <td>0.001274</td>\n      <td>1.681705e-06</td>\n      <td>0.049961</td>\n      <td>0.211623</td>\n      <td>0.000117</td>\n    </tr>\n    <tr>\n      <th>3</th>\n      <td>200003</td>\n      <td>0.018511</td>\n      <td>0.692422</td>\n      <td>0.000336</td>\n      <td>0.000629</td>\n      <td>0.000243</td>\n      <td>0.000384</td>\n      <td>0.000099</td>\n      <td>0.000158</td>\n      <td>0.000706</td>\n      <td>0.023218</td>\n      <td>0.002989</td>\n      <td>0.000076</td>\n      <td>0.001008</td>\n      <td>5.983105e-08</td>\n      <td>0.000145</td>\n      <td>0.259071</td>\n      <td>0.000006</td>\n    </tr>\n    <tr>\n      <th>4</th>\n      <td>200004</td>\n      <td>0.066491</td>\n      <td>0.168253</td>\n      <td>0.010378</td>\n      <td>0.009161</td>\n      <td>0.001071</td>\n      <td>0.001708</td>\n      <td>0.000263</td>\n      <td>0.000066</td>\n      <td>0.009495</td>\n      <td>0.065212</td>\n      <td>0.003598</td>\n      <td>0.000091</td>\n      <td>0.007802</td>\n      <td>4.052950e-07</td>\n      <td>0.000288</td>\n      <td>0.656121</td>\n      <td>0.000003</td>\n    </tr>\n    <tr>\n      <th>...</th>\n      <td>...</td>\n      <td>...</td>\n      <td>...</td>\n      <td>...</td>\n      <td>...</td>\n      <td>...</td>\n      <td>...</td>\n      <td>...</td>\n      <td>...</td>\n      <td>...</td>\n      <td>...</td>\n      <td>...</td>\n      <td>...</td>\n      <td>...</td>\n      <td>...</td>\n      <td>...</td>\n      <td>...</td>\n      <td>...</td>\n    </tr>\n    <tr>\n      <th>99995</th>\n      <td>299995</td>\n      <td>0.025461</td>\n      <td>0.367640</td>\n      <td>0.001300</td>\n      <td>0.006711</td>\n      <td>0.007496</td>\n      <td>0.000022</td>\n      <td>0.000592</td>\n      <td>0.000005</td>\n      <td>0.003770</td>\n      <td>0.000964</td>\n      <td>0.000853</td>\n      <td>0.001035</td>\n      <td>0.000178</td>\n      <td>8.701694e-06</td>\n      <td>0.000990</td>\n      <td>0.582795</td>\n      <td>0.000178</td>\n    </tr>\n    <tr>\n      <th>99996</th>\n      <td>299996</td>\n      <td>0.022782</td>\n      <td>0.044685</td>\n      <td>0.016422</td>\n      <td>0.048064</td>\n      <td>0.006579</td>\n      <td>0.000101</td>\n      <td>0.000333</td>\n      <td>0.000086</td>\n      <td>0.013382</td>\n      <td>0.003907</td>\n      <td>0.012318</td>\n      <td>0.005406</td>\n      <td>0.001050</td>\n      <td>3.303442e-06</td>\n      <td>0.006060</td>\n      <td>0.818437</td>\n      <td>0.000385</td>\n    </tr>\n    <tr>\n      <th>99997</th>\n      <td>299997</td>\n      <td>0.028238</td>\n      <td>0.017903</td>\n      <td>0.032413</td>\n      <td>0.061892</td>\n      <td>0.009019</td>\n      <td>0.000236</td>\n      <td>0.000627</td>\n      <td>0.000343</td>\n      <td>0.015594</td>\n      <td>0.004984</td>\n      <td>0.008794</td>\n      <td>0.000659</td>\n      <td>0.001808</td>\n      <td>4.034413e-06</td>\n      <td>0.027538</td>\n      <td>0.789947</td>\n      <td>0.000001</td>\n    </tr>\n    <tr>\n      <th>99998</th>\n      <td>299998</td>\n      <td>0.054958</td>\n      <td>0.239949</td>\n      <td>0.007651</td>\n      <td>0.043049</td>\n      <td>0.002264</td>\n      <td>0.000676</td>\n      <td>0.000926</td>\n      <td>0.000188</td>\n      <td>0.009583</td>\n      <td>0.015539</td>\n      <td>0.007505</td>\n      <td>0.002815</td>\n      <td>0.000844</td>\n      <td>3.281376e-06</td>\n      <td>0.014818</td>\n      <td>0.598863</td>\n      <td>0.000371</td>\n    </tr>\n    <tr>\n      <th>99999</th>\n      <td>299999</td>\n      <td>0.028553</td>\n      <td>0.050851</td>\n      <td>0.014840</td>\n      <td>0.050070</td>\n      <td>0.010102</td>\n      <td>0.000429</td>\n      <td>0.000551</td>\n      <td>0.000690</td>\n      <td>0.012442</td>\n      <td>0.005831</td>\n      <td>0.013321</td>\n      <td>0.002063</td>\n      <td>0.002852</td>\n      <td>3.708986e-07</td>\n      <td>0.003680</td>\n      <td>0.803711</td>\n      <td>0.000014</td>\n    </tr>\n  </tbody>\n</table>\n<p>100000 rows × 18 columns</p>\n</div>"
          },
          "metadata": {}
        }
      ]
    },
    {
      "cell_type": "code",
      "source": [
        "sample_submission_df[sorted_classes] = test_pred_proba_df\n",
        "sample_submission_df.to_csv(\"_submission_55_.csv\", index=False)"
      ],
      "metadata": {
        "execution": {
          "iopub.status.busy": "2024-03-13T23:52:16.941804Z",
          "iopub.execute_input": "2024-03-13T23:52:16.942227Z",
          "iopub.status.idle": "2024-03-13T23:52:20.728702Z",
          "shell.execute_reply.started": "2024-03-13T23:52:16.942196Z",
          "shell.execute_reply": "2024-03-13T23:52:20.727638Z"
        },
        "trusted": true,
        "id": "U_8Cv-Zoe4yS"
      },
      "execution_count": null,
      "outputs": []
    },
    {
      "cell_type": "code",
      "source": [
        "sample_submission_df.columns"
      ],
      "metadata": {
        "execution": {
          "iopub.status.busy": "2024-03-13T17:40:00.274603Z",
          "iopub.execute_input": "2024-03-13T17:40:00.274974Z",
          "iopub.status.idle": "2024-03-13T17:40:00.281480Z",
          "shell.execute_reply.started": "2024-03-13T17:40:00.274943Z",
          "shell.execute_reply": "2024-03-13T17:40:00.280508Z"
        },
        "trusted": true,
        "id": "roi7djY_e4yS",
        "outputId": "ac3293ba-25d7-438f-c4e0-1a4eb311ec22"
      },
      "execution_count": null,
      "outputs": [
        {
          "execution_count": 50,
          "output_type": "execute_result",
          "data": {
            "text/plain": "Index(['id', '{other}', '{}', '{α, β}', '{α, γ}', '{α, δ}', '{α, ε, η}',\n       '{α, ε, θ}', '{α, ε, ψ}', '{α, ε}', '{α, η}', '{α, θ}', '{α, λ}',\n       '{α, μ}', '{α, π}', '{α, ψ}', '{α}', '{λ}'],\n      dtype='object')"
          },
          "metadata": {}
        }
      ]
    },
    {
      "cell_type": "markdown",
      "source": [
        "Несмотря на то, что данный код дает наилучший наш сабмит на паблик лидерборде, мы полагаем, что решения, полученное с помощью модели LGBMBoost или отдельных моделей для продуктов и/или кластеров  больше подходят для продвижения в продакшн. Не получилось за разумные сроки с помощью CatBoost на процессоре обучить модель, пришлось использовать видеокарты, что привело к небольшой нестабильности модели."
      ],
      "metadata": {
        "id": "03R_VilxTK6a"
      }
    }
  ]
}