{
  "cells": [
    {
      "cell_type": "markdown",
      "metadata": {
        "id": "8b7bef09-9e86-4b19-bbb7-e0ccb7515328"
      },
      "source": [
        "# Установка библиотек и загрузка данных"
      ],
      "id": "8b7bef09-9e86-4b19-bbb7-e0ccb7515328"
    },
    {
      "cell_type": "code",
      "execution_count": 1,
      "metadata": {
        "id": "e0ddb399-18f4-4051-86c0-39f1c623eef5"
      },
      "outputs": [],
      "source": [
        "import numpy as np\n",
        "import pandas as pd\n",
        "from lightgbm import LGBMClassifier\n",
        "from sklearn.metrics import roc_auc_score\n",
        "from sklearn.model_selection import train_test_split\n",
        "\n",
        "import seaborn as sns\n",
        "import matplotlib.pyplot as plt\n",
        "plt.rcParams['font.size'] = 10\n",
        "\n",
        "import warnings\n",
        "warnings.filterwarnings('ignore')"
      ],
      "id": "e0ddb399-18f4-4051-86c0-39f1c623eef5"
    },
    {
      "cell_type": "code",
      "execution_count": null,
      "metadata": {
        "id": "WremRMspEMJA"
      },
      "outputs": [],
      "source": [
        "!pip freeze | grep \"numpy\\|pandas\\|lightgbm\\|scikit-learn\\|seaborn\\|matplotlib\""
      ],
      "id": "WremRMspEMJA"
    },
    {
      "cell_type": "markdown",
      "source": [
        "Библиотеки:\n",
        "\n",
        "geopandas==0.13.2\n",
        "\n",
        "lightgbm==4.1.0\n",
        "\n",
        "matplotlib==3.7.1\n",
        "\n",
        "matplotlib-inline==0.1.6\n",
        "\n",
        "matplotlib-venn==0.11.10\n",
        "\n",
        "numpy==1.25.2\n",
        "\n",
        "pandas==1.5.3\n",
        "\n",
        "pandas-datareader==0.10.0\n",
        "\n",
        "pandas-gbq==0.19.2\n",
        "\n",
        "pandas-stubs==1.5.3.230304\n",
        "\n",
        "scikit-learn==1.2.2\n",
        "\n",
        "seaborn==0.13.1\n",
        "\n",
        "sklearn-pandas==2.2.0"
      ],
      "metadata": {
        "id": "yeDJz53eW2ND"
      },
      "id": "yeDJz53eW2ND"
    },
    {
      "cell_type": "code",
      "execution_count": 2,
      "metadata": {
        "colab": {
          "base_uri": "https://localhost:8080/"
        },
        "id": "JR9ZufCnyAY9",
        "outputId": "a2a06be3-23bf-4602-c32e-40569fcacbbc"
      },
      "outputs": [
        {
          "output_type": "stream",
          "name": "stdout",
          "text": [
            "Drive already mounted at /content/drive; to attempt to forcibly remount, call drive.mount(\"/content/drive\", force_remount=True).\n"
          ]
        }
      ],
      "source": [
        "# если работаем в колабе, подключаем гугл диск\n",
        "from google.colab import drive\n",
        "drive.mount('/content/drive')\n",
        "\n",
        "FILE_PATH = '/content/drive/MyDrive/CLTV_Alfa/'"
      ],
      "id": "JR9ZufCnyAY9"
    },
    {
      "cell_type": "code",
      "execution_count": 3,
      "metadata": {
        "colab": {
          "base_uri": "https://localhost:8080/"
        },
        "id": "1mukey22zL2w",
        "outputId": "c47b0147-0060-4184-91fe-8fa6f38d932b"
      },
      "outputs": [
        {
          "output_type": "execute_result",
          "data": {
            "text/plain": [
              "((600000, 93), (290120, 92))"
            ]
          },
          "metadata": {},
          "execution_count": 3
        }
      ],
      "source": [
        "train_df = pd.read_parquet(FILE_PATH+'train_data.pqt')\n",
        "test_df = pd.read_parquet(FILE_PATH+'test_data.pqt')\n",
        "train_df.shape, test_df.shape"
      ],
      "id": "1mukey22zL2w"
    },
    {
      "cell_type": "markdown",
      "source": [
        "# Создаем новые фичи"
      ],
      "metadata": {
        "id": "3Njf6VjzXWRW"
      },
      "id": "3Njf6VjzXWRW"
    },
    {
      "cell_type": "markdown",
      "source": [
        "Фича 'filled_cols' описывает, сколько заполненых колонок есть в каждой строке"
      ],
      "metadata": {
        "id": "A9HMHUR8XmpW"
      },
      "id": "A9HMHUR8XmpW"
    },
    {
      "cell_type": "code",
      "source": [
        "# Подсчет числа заполненных значений в каждой строке\n",
        "train_df['filled_cols'] = train_df.drop(['id', 'date', 'start_cluster', 'end_cluster'], axis=1).count(axis=1)\n",
        "test_df['filled_cols'] = test_df.drop(['id', 'date', 'start_cluster'], axis=1).count(axis=1)"
      ],
      "metadata": {
        "id": "zOPLqeHK9oim"
      },
      "id": "zOPLqeHK9oim",
      "execution_count": 4,
      "outputs": []
    },
    {
      "cell_type": "markdown",
      "source": [
        "Наиболее вероятный конечный кластер для заданного начального кластера"
      ],
      "metadata": {
        "id": "D87829YSXtY3"
      },
      "id": "D87829YSXtY3"
    },
    {
      "cell_type": "code",
      "source": [
        "clusters = {\n",
        " '{other}': '{other}',\n",
        " '{}': '{}',\n",
        " '{α, β}': '{α, β}',\n",
        " '{α, γ}': '{α, γ}',\n",
        " '{α, δ}': '{α}',\n",
        " '{α, ε, η}': '{α, ε, η}',\n",
        " '{α, ε, θ}': '{α, ε, θ}',\n",
        " '{α, ε, ψ}': '{α, ε, ψ}',\n",
        " '{α, ε}': '{α, ε}',\n",
        " '{α, η}': '{α, η}',\n",
        " '{α, θ}': '{α, θ}',\n",
        " '{α, λ}': '{α, λ}',\n",
        " '{α, μ}': '{α, μ}',\n",
        " '{α, π}': '{other}',\n",
        " '{α, ψ}': '{α, ψ}',\n",
        " '{α}': '{α}',\n",
        " '{λ}': '{α, λ}'\n",
        " }"
      ],
      "metadata": {
        "id": "PxPkrrdqXbj-"
      },
      "id": "PxPkrrdqXbj-",
      "execution_count": 5,
      "outputs": []
    },
    {
      "cell_type": "markdown",
      "source": [
        "Заполняем начальный кластер в month_6 значениями из month_5"
      ],
      "metadata": {
        "id": "Nd3WmxutX8E5"
      },
      "id": "Nd3WmxutX8E5"
    },
    {
      "cell_type": "code",
      "source": [
        "test_df['start_cluster'].fillna(method='ffill', inplace=True)"
      ],
      "metadata": {
        "id": "i1hUE8qzX33i"
      },
      "id": "i1hUE8qzX33i",
      "execution_count": 6,
      "outputs": []
    },
    {
      "cell_type": "markdown",
      "source": [
        "Предсказание конечного кластера по матрице вероятностей"
      ],
      "metadata": {
        "id": "icObFQPPaDTP"
      },
      "id": "icObFQPPaDTP"
    },
    {
      "cell_type": "code",
      "source": [
        "train_df['end_cluster_1'] = train_df['start_cluster'].map(clusters)\n",
        "test_df['end_cluster_1'] = test_df['start_cluster'].map(clusters)"
      ],
      "metadata": {
        "id": "iDHlxVLAZER5"
      },
      "id": "iDHlxVLAZER5",
      "execution_count": 7,
      "outputs": []
    },
    {
      "cell_type": "markdown",
      "source": [
        "# LGBM модель"
      ],
      "metadata": {
        "id": "zupzTUJzUOJT"
      },
      "id": "zupzTUJzUOJT"
    },
    {
      "cell_type": "code",
      "source": [
        "cat_cols = [\n",
        "    \"channel_code\",\n",
        "    \"city\",\n",
        "    \"city_type\",\n",
        "    \"okved\",\n",
        "    \"segment\",\n",
        "    \"start_cluster\",\n",
        "    \"index_city_code\",\n",
        "    \"ogrn_month\",\n",
        "    \"ogrn_year\",\n",
        "    'end_cluster_1'\n",
        "]"
      ],
      "metadata": {
        "id": "GRLxNzWSZqXq"
      },
      "id": "GRLxNzWSZqXq",
      "execution_count": 8,
      "outputs": []
    },
    {
      "cell_type": "markdown",
      "source": [
        "Обозначение категориальных признаков"
      ],
      "metadata": {
        "id": "W2X98Wj5Zt3n"
      },
      "id": "W2X98Wj5Zt3n"
    },
    {
      "cell_type": "code",
      "source": [
        "train_df[cat_cols] = train_df[cat_cols].astype(\"category\")\n",
        "test_df[cat_cols] = test_df[cat_cols].astype(\"category\")"
      ],
      "metadata": {
        "id": "wCiXctMfZtMT"
      },
      "id": "wCiXctMfZtMT",
      "execution_count": 9,
      "outputs": []
    },
    {
      "cell_type": "markdown",
      "source": [
        "Возьмем фичи с наибольшей значимостью на CatBoost и добавим две новые фичи."
      ],
      "metadata": {
        "id": "7ga_h_pyaOOR"
      },
      "id": "7ga_h_pyaOOR"
    },
    {
      "cell_type": "code",
      "source": [
        "top_features = ['filled_cols',\n",
        "                'end_cluster_1',\n",
        "    'start_cluster', 'okved', 'index_city_code', 'channel_code', 'city', 'balance_amt_min', 'segment', 'balance_amt_max', 'ogrn_days_end_quarter', 'sum_of_paym_1y', 'ogrn_days_end_month', 'cnt_a_oper_1m', 'min_founderpres',\n",
        " 'ogrn_exist_months', 'ogrn_month', 'ft_registration_date', 'ogrn_year', 'sum_of_paym_6m', 'max_founderpres', 'sum_deb_e_oper_3m', 'balance_amt_avg', 'sum_of_paym_2m', 'sum_cred_e_oper_3m', 'cnt_days_deb_e_oper_3m',\n",
        " 'balance_amt_day_avg', 'cnt_cred_e_oper_3m', 'sum_cred_e_oper_1m', 'sum_cred_h_oper_3m', 'cnt_days_cred_e_oper_3m',\n",
        " 'cnt_deb_e_oper_3m', 'sum_deb_h_oper_3m', 'cnt_a_oper_3m', 'sum_deb_f_oper_3m', 'cnt_cred_e_oper_1m', 'sum_deb_g_oper_3m', 'sum_deb_e_oper_1m',\n",
        " 'cnt_cred_h_oper_3m', 'cnt_deb_h_oper_3m', 'sum_deb_d_oper_3m', 'cnt_deb_e_oper_1m', 'sum_deb_f_oper_1m', 'sum_deb_h_oper_1m',\n",
        " 'cnt_days_cred_e_oper_1m', 'cnt_deb_g_oper_3m', 'cnt_days_cred_h_oper_3m', 'sum_cred_g_oper_3m', 'sum_c_oper_3m',\n",
        " 'sum_a_oper_3m', 'sum_cred_h_oper_1m', 'city_type', 'cnt_deb_d_oper_3m', 'sum_deb_d_oper_1m', 'cnt_days_deb_e_oper_1m', 'cnt_deb_f_oper_3m', 'sum_deb_g_oper_1m', 'cnt_days_deb_h_oper_3m', 'cnt_days_deb_f_oper_3m',\n",
        " 'cnt_c_oper_3m', 'cnt_days_deb_g_oper_3m', 'cnt_b_oper_1m', 'cnt_days_deb_h_oper_1m', 'cnt_days_cred_h_oper_1m',\n",
        " 'cnt_deb_f_oper_1m', 'sum_cred_f_oper_3m', 'cnt_days_cred_g_oper_1m', 'cnt_cred_g_oper_3m', 'sum_cred_d_oper_3m', 'sum_b_oper_3m', 'sum_c_oper_1m', 'sum_a_oper_1m', 'cnt_deb_g_oper_1m', 'cnt_deb_h_oper_1m',\n",
        "                'cnt_b_oper_3m', 'cnt_days_cred_f_oper_1m', 'cnt_c_oper_1m', 'cnt_days_deb_g_oper_1m',\n",
        "                'cnt_days_deb_f_oper_1m', 'sum_cred_g_oper_1m', 'cnt_cred_h_oper_1m', 'cnt_cred_d_oper_1m', 'sum_b_oper_1m', 'cnt_deb_d_oper_1m', 'cnt_cred_f_oper_3m',\n",
        " 'cnt_cred_d_oper_3m', 'sum_cred_f_oper_1m', 'cnt_cred_f_oper_1m', 'sum_cred_d_oper_1m', 'cnt_cred_g_oper_1m', 'cnt_days_cred_g_oper_3m', 'cnt_days_cred_f_oper_3m']\n",
        "\n",
        "selected_features = top_features[:53]"
      ],
      "metadata": {
        "id": "yVgONPesgpUd"
      },
      "id": "yVgONPesgpUd",
      "execution_count": 10,
      "outputs": []
    },
    {
      "cell_type": "code",
      "source": [
        "X = train_df.drop([\"id\", \"date\", \"end_cluster\"], axis=1)\n",
        "y = train_df[\"end_cluster\"]"
      ],
      "metadata": {
        "id": "CbeFKvitaHeI"
      },
      "id": "CbeFKvitaHeI",
      "execution_count": 11,
      "outputs": []
    },
    {
      "cell_type": "code",
      "source": [
        "x_train, x_val, y_train, y_val = train_test_split(X[selected_features], y,test_size=0.2,random_state=42)"
      ],
      "metadata": {
        "id": "n6FrIZURRqDR"
      },
      "id": "n6FrIZURRqDR",
      "execution_count": 13,
      "outputs": []
    },
    {
      "cell_type": "code",
      "source": [
        "model = LGBMClassifier(verbosity=-1,\n",
        "                       random_state=42,\n",
        "                       n_jobs=-1,\n",
        "                       learning_rate = 0.01,\n",
        "                       max_depth=10,\n",
        "                       lambda_l2 = 3,\n",
        "                       n_estimators = 500)\n",
        "model.fit(x_train, y_train)"
      ],
      "metadata": {
        "colab": {
          "base_uri": "https://localhost:8080/",
          "height": 91
        },
        "id": "qFYKhp3JCWVr",
        "outputId": "430adafb-e78c-4690-fae2-d05ce28c8751"
      },
      "id": "qFYKhp3JCWVr",
      "execution_count": 14,
      "outputs": [
        {
          "output_type": "execute_result",
          "data": {
            "text/plain": [
              "LGBMClassifier(lambda_l2=3, learning_rate=0.01, max_depth=10, n_estimators=500,\n",
              "               n_jobs=-1, random_state=42, verbosity=-1)"
            ],
            "text/html": [
              "<style>#sk-container-id-1 {color: black;background-color: white;}#sk-container-id-1 pre{padding: 0;}#sk-container-id-1 div.sk-toggleable {background-color: white;}#sk-container-id-1 label.sk-toggleable__label {cursor: pointer;display: block;width: 100%;margin-bottom: 0;padding: 0.3em;box-sizing: border-box;text-align: center;}#sk-container-id-1 label.sk-toggleable__label-arrow:before {content: \"▸\";float: left;margin-right: 0.25em;color: #696969;}#sk-container-id-1 label.sk-toggleable__label-arrow:hover:before {color: black;}#sk-container-id-1 div.sk-estimator:hover label.sk-toggleable__label-arrow:before {color: black;}#sk-container-id-1 div.sk-toggleable__content {max-height: 0;max-width: 0;overflow: hidden;text-align: left;background-color: #f0f8ff;}#sk-container-id-1 div.sk-toggleable__content pre {margin: 0.2em;color: black;border-radius: 0.25em;background-color: #f0f8ff;}#sk-container-id-1 input.sk-toggleable__control:checked~div.sk-toggleable__content {max-height: 200px;max-width: 100%;overflow: auto;}#sk-container-id-1 input.sk-toggleable__control:checked~label.sk-toggleable__label-arrow:before {content: \"▾\";}#sk-container-id-1 div.sk-estimator input.sk-toggleable__control:checked~label.sk-toggleable__label {background-color: #d4ebff;}#sk-container-id-1 div.sk-label input.sk-toggleable__control:checked~label.sk-toggleable__label {background-color: #d4ebff;}#sk-container-id-1 input.sk-hidden--visually {border: 0;clip: rect(1px 1px 1px 1px);clip: rect(1px, 1px, 1px, 1px);height: 1px;margin: -1px;overflow: hidden;padding: 0;position: absolute;width: 1px;}#sk-container-id-1 div.sk-estimator {font-family: monospace;background-color: #f0f8ff;border: 1px dotted black;border-radius: 0.25em;box-sizing: border-box;margin-bottom: 0.5em;}#sk-container-id-1 div.sk-estimator:hover {background-color: #d4ebff;}#sk-container-id-1 div.sk-parallel-item::after {content: \"\";width: 100%;border-bottom: 1px solid gray;flex-grow: 1;}#sk-container-id-1 div.sk-label:hover label.sk-toggleable__label {background-color: #d4ebff;}#sk-container-id-1 div.sk-serial::before {content: \"\";position: absolute;border-left: 1px solid gray;box-sizing: border-box;top: 0;bottom: 0;left: 50%;z-index: 0;}#sk-container-id-1 div.sk-serial {display: flex;flex-direction: column;align-items: center;background-color: white;padding-right: 0.2em;padding-left: 0.2em;position: relative;}#sk-container-id-1 div.sk-item {position: relative;z-index: 1;}#sk-container-id-1 div.sk-parallel {display: flex;align-items: stretch;justify-content: center;background-color: white;position: relative;}#sk-container-id-1 div.sk-item::before, #sk-container-id-1 div.sk-parallel-item::before {content: \"\";position: absolute;border-left: 1px solid gray;box-sizing: border-box;top: 0;bottom: 0;left: 50%;z-index: -1;}#sk-container-id-1 div.sk-parallel-item {display: flex;flex-direction: column;z-index: 1;position: relative;background-color: white;}#sk-container-id-1 div.sk-parallel-item:first-child::after {align-self: flex-end;width: 50%;}#sk-container-id-1 div.sk-parallel-item:last-child::after {align-self: flex-start;width: 50%;}#sk-container-id-1 div.sk-parallel-item:only-child::after {width: 0;}#sk-container-id-1 div.sk-dashed-wrapped {border: 1px dashed gray;margin: 0 0.4em 0.5em 0.4em;box-sizing: border-box;padding-bottom: 0.4em;background-color: white;}#sk-container-id-1 div.sk-label label {font-family: monospace;font-weight: bold;display: inline-block;line-height: 1.2em;}#sk-container-id-1 div.sk-label-container {text-align: center;}#sk-container-id-1 div.sk-container {/* jupyter's `normalize.less` sets `[hidden] { display: none; }` but bootstrap.min.css set `[hidden] { display: none !important; }` so we also need the `!important` here to be able to override the default hidden behavior on the sphinx rendered scikit-learn.org. See: https://github.com/scikit-learn/scikit-learn/issues/21755 */display: inline-block !important;position: relative;}#sk-container-id-1 div.sk-text-repr-fallback {display: none;}</style><div id=\"sk-container-id-1\" class=\"sk-top-container\"><div class=\"sk-text-repr-fallback\"><pre>LGBMClassifier(lambda_l2=3, learning_rate=0.01, max_depth=10, n_estimators=500,\n",
              "               n_jobs=-1, random_state=42, verbosity=-1)</pre><b>In a Jupyter environment, please rerun this cell to show the HTML representation or trust the notebook. <br />On GitHub, the HTML representation is unable to render, please try loading this page with nbviewer.org.</b></div><div class=\"sk-container\" hidden><div class=\"sk-item\"><div class=\"sk-estimator sk-toggleable\"><input class=\"sk-toggleable__control sk-hidden--visually\" id=\"sk-estimator-id-1\" type=\"checkbox\" checked><label for=\"sk-estimator-id-1\" class=\"sk-toggleable__label sk-toggleable__label-arrow\">LGBMClassifier</label><div class=\"sk-toggleable__content\"><pre>LGBMClassifier(lambda_l2=3, learning_rate=0.01, max_depth=10, n_estimators=500,\n",
              "               n_jobs=-1, random_state=42, verbosity=-1)</pre></div></div></div></div></div>"
            ]
          },
          "metadata": {},
          "execution_count": 14
        }
      ]
    },
    {
      "cell_type": "markdown",
      "metadata": {
        "id": "in4jAC8SIbIk"
      },
      "source": [
        "Зададим функцию для взвешенной метрики roc auc"
      ],
      "id": "in4jAC8SIbIk"
    },
    {
      "cell_type": "code",
      "execution_count": 15,
      "metadata": {
        "id": "WxsjOsocI0Kq"
      },
      "outputs": [],
      "source": [
        "def weighted_roc_auc(y_true, y_pred, labels, weights_dict):\n",
        "    unnorm_weights = np.array([weights_dict[label] for label in labels])\n",
        "    weights = unnorm_weights / unnorm_weights.sum()\n",
        "    classes_roc_auc = roc_auc_score(y_true, y_pred, labels=labels,\n",
        "                                    multi_class=\"ovr\", average=None)\n",
        "    return sum(weights * classes_roc_auc)"
      ],
      "id": "WxsjOsocI0Kq"
    },
    {
      "cell_type": "code",
      "execution_count": 16,
      "metadata": {
        "id": "dNp4RlkbJmqE"
      },
      "outputs": [],
      "source": [
        "cluster_weights = pd.read_excel(FILE_PATH+'cluster_weights.xlsx').set_index(\"cluster\")\n",
        "weights_dict = cluster_weights[\"unnorm_weight\"].to_dict()"
      ],
      "id": "dNp4RlkbJmqE"
    },
    {
      "cell_type": "markdown",
      "metadata": {
        "id": "882N_MniJeLl"
      },
      "source": [
        "Проверка работы модели"
      ],
      "id": "882N_MniJeLl"
    },
    {
      "cell_type": "code",
      "execution_count": 17,
      "metadata": {
        "colab": {
          "base_uri": "https://localhost:8080/"
        },
        "id": "BAGzrwjowH8q",
        "outputId": "1b7025e8-f071-4897-de9f-955a58c1d8d4"
      },
      "outputs": [
        {
          "output_type": "execute_result",
          "data": {
            "text/plain": [
              "(120000, 17)"
            ]
          },
          "metadata": {},
          "execution_count": 17
        }
      ],
      "source": [
        "y_pred_proba = model.predict_proba(x_val)\n",
        "y_pred_proba.shape"
      ],
      "id": "BAGzrwjowH8q"
    },
    {
      "cell_type": "code",
      "execution_count": 18,
      "metadata": {
        "colab": {
          "base_uri": "https://localhost:8080/"
        },
        "id": "_-grylzULhLv",
        "outputId": "88a7bd4a-a9a1-4f4e-b754-2d2697477d51"
      },
      "outputs": [
        {
          "output_type": "execute_result",
          "data": {
            "text/plain": [
              "0.9430586606486161"
            ]
          },
          "metadata": {},
          "execution_count": 18
        }
      ],
      "source": [
        "weighted_roc_auc(y_val, y_pred_proba, model.classes_, weights_dict)"
      ],
      "id": "_-grylzULhLv"
    },
    {
      "cell_type": "markdown",
      "source": [
        "Метрика на валидации 0.9430586606486161"
      ],
      "metadata": {
        "id": "kMh0wLNhn6zD"
      },
      "id": "kMh0wLNhn6zD"
    },
    {
      "cell_type": "markdown",
      "metadata": {
        "id": "cfLFjyYHNTE4"
      },
      "source": [
        "## Прогноз на тестовой выборке"
      ],
      "id": "cfLFjyYHNTE4"
    },
    {
      "cell_type": "markdown",
      "source": [
        "Обучаем модель на всей выборке"
      ],
      "metadata": {
        "id": "UZwR5s1yedWA"
      },
      "id": "UZwR5s1yedWA"
    },
    {
      "cell_type": "code",
      "source": [
        "# 30 мин\n",
        "model_full = LGBMClassifier(verbosity=-1,\n",
        "                            random_state=42,\n",
        "                            n_jobs=-1,\n",
        "                            learning_rate = 0.01,\n",
        "                            max_depth=10,\n",
        "                            lambda_l2 = 3,\n",
        "                            n_estimators = 500)\n",
        "model_full.fit(X[selected_features], y)"
      ],
      "metadata": {
        "colab": {
          "base_uri": "https://localhost:8080/",
          "height": 91
        },
        "id": "hixMBq5BeIf9",
        "outputId": "9ecedc12-192b-49e7-cbcc-cac6a8038f7a"
      },
      "id": "hixMBq5BeIf9",
      "execution_count": 105,
      "outputs": [
        {
          "output_type": "execute_result",
          "data": {
            "text/plain": [
              "LGBMClassifier(lambda_l2=3, learning_rate=0.01, max_depth=10, n_estimators=1000,\n",
              "               n_jobs=-1, random_state=42, verbosity=-1)"
            ],
            "text/html": [
              "<style>#sk-container-id-17 {color: black;background-color: white;}#sk-container-id-17 pre{padding: 0;}#sk-container-id-17 div.sk-toggleable {background-color: white;}#sk-container-id-17 label.sk-toggleable__label {cursor: pointer;display: block;width: 100%;margin-bottom: 0;padding: 0.3em;box-sizing: border-box;text-align: center;}#sk-container-id-17 label.sk-toggleable__label-arrow:before {content: \"▸\";float: left;margin-right: 0.25em;color: #696969;}#sk-container-id-17 label.sk-toggleable__label-arrow:hover:before {color: black;}#sk-container-id-17 div.sk-estimator:hover label.sk-toggleable__label-arrow:before {color: black;}#sk-container-id-17 div.sk-toggleable__content {max-height: 0;max-width: 0;overflow: hidden;text-align: left;background-color: #f0f8ff;}#sk-container-id-17 div.sk-toggleable__content pre {margin: 0.2em;color: black;border-radius: 0.25em;background-color: #f0f8ff;}#sk-container-id-17 input.sk-toggleable__control:checked~div.sk-toggleable__content {max-height: 200px;max-width: 100%;overflow: auto;}#sk-container-id-17 input.sk-toggleable__control:checked~label.sk-toggleable__label-arrow:before {content: \"▾\";}#sk-container-id-17 div.sk-estimator input.sk-toggleable__control:checked~label.sk-toggleable__label {background-color: #d4ebff;}#sk-container-id-17 div.sk-label input.sk-toggleable__control:checked~label.sk-toggleable__label {background-color: #d4ebff;}#sk-container-id-17 input.sk-hidden--visually {border: 0;clip: rect(1px 1px 1px 1px);clip: rect(1px, 1px, 1px, 1px);height: 1px;margin: -1px;overflow: hidden;padding: 0;position: absolute;width: 1px;}#sk-container-id-17 div.sk-estimator {font-family: monospace;background-color: #f0f8ff;border: 1px dotted black;border-radius: 0.25em;box-sizing: border-box;margin-bottom: 0.5em;}#sk-container-id-17 div.sk-estimator:hover {background-color: #d4ebff;}#sk-container-id-17 div.sk-parallel-item::after {content: \"\";width: 100%;border-bottom: 1px solid gray;flex-grow: 1;}#sk-container-id-17 div.sk-label:hover label.sk-toggleable__label {background-color: #d4ebff;}#sk-container-id-17 div.sk-serial::before {content: \"\";position: absolute;border-left: 1px solid gray;box-sizing: border-box;top: 0;bottom: 0;left: 50%;z-index: 0;}#sk-container-id-17 div.sk-serial {display: flex;flex-direction: column;align-items: center;background-color: white;padding-right: 0.2em;padding-left: 0.2em;position: relative;}#sk-container-id-17 div.sk-item {position: relative;z-index: 1;}#sk-container-id-17 div.sk-parallel {display: flex;align-items: stretch;justify-content: center;background-color: white;position: relative;}#sk-container-id-17 div.sk-item::before, #sk-container-id-17 div.sk-parallel-item::before {content: \"\";position: absolute;border-left: 1px solid gray;box-sizing: border-box;top: 0;bottom: 0;left: 50%;z-index: -1;}#sk-container-id-17 div.sk-parallel-item {display: flex;flex-direction: column;z-index: 1;position: relative;background-color: white;}#sk-container-id-17 div.sk-parallel-item:first-child::after {align-self: flex-end;width: 50%;}#sk-container-id-17 div.sk-parallel-item:last-child::after {align-self: flex-start;width: 50%;}#sk-container-id-17 div.sk-parallel-item:only-child::after {width: 0;}#sk-container-id-17 div.sk-dashed-wrapped {border: 1px dashed gray;margin: 0 0.4em 0.5em 0.4em;box-sizing: border-box;padding-bottom: 0.4em;background-color: white;}#sk-container-id-17 div.sk-label label {font-family: monospace;font-weight: bold;display: inline-block;line-height: 1.2em;}#sk-container-id-17 div.sk-label-container {text-align: center;}#sk-container-id-17 div.sk-container {/* jupyter's `normalize.less` sets `[hidden] { display: none; }` but bootstrap.min.css set `[hidden] { display: none !important; }` so we also need the `!important` here to be able to override the default hidden behavior on the sphinx rendered scikit-learn.org. See: https://github.com/scikit-learn/scikit-learn/issues/21755 */display: inline-block !important;position: relative;}#sk-container-id-17 div.sk-text-repr-fallback {display: none;}</style><div id=\"sk-container-id-17\" class=\"sk-top-container\"><div class=\"sk-text-repr-fallback\"><pre>LGBMClassifier(lambda_l2=3, learning_rate=0.01, max_depth=10, n_estimators=1000,\n",
              "               n_jobs=-1, random_state=42, verbosity=-1)</pre><b>In a Jupyter environment, please rerun this cell to show the HTML representation or trust the notebook. <br />On GitHub, the HTML representation is unable to render, please try loading this page with nbviewer.org.</b></div><div class=\"sk-container\" hidden><div class=\"sk-item\"><div class=\"sk-estimator sk-toggleable\"><input class=\"sk-toggleable__control sk-hidden--visually\" id=\"sk-estimator-id-17\" type=\"checkbox\" checked><label for=\"sk-estimator-id-17\" class=\"sk-toggleable__label sk-toggleable__label-arrow\">LGBMClassifier</label><div class=\"sk-toggleable__content\"><pre>LGBMClassifier(lambda_l2=3, learning_rate=0.01, max_depth=10, n_estimators=1000,\n",
              "               n_jobs=-1, random_state=42, verbosity=-1)</pre></div></div></div></div></div>"
            ]
          },
          "metadata": {},
          "execution_count": 105
        }
      ]
    },
    {
      "cell_type": "code",
      "execution_count": 78,
      "metadata": {
        "id": "efc8b64a-86db-4564-af7b-be649612df82"
      },
      "outputs": [],
      "source": [
        "sample_submission_df = pd.read_csv(FILE_PATH+\"sample_submission.csv\")"
      ],
      "id": "efc8b64a-86db-4564-af7b-be649612df82"
    },
    {
      "cell_type": "code",
      "execution_count": 19,
      "metadata": {
        "colab": {
          "base_uri": "https://localhost:8080/"
        },
        "id": "pnVPYVJNUi1f",
        "outputId": "9f553a77-9f97-45a8-a019-b9f5d9652252"
      },
      "outputs": [
        {
          "output_type": "execute_result",
          "data": {
            "text/plain": [
              "(100000, 18)"
            ]
          },
          "metadata": {},
          "execution_count": 19
        }
      ],
      "source": [
        "sample_submission_df.shape"
      ],
      "id": "pnVPYVJNUi1f"
    },
    {
      "cell_type": "code",
      "execution_count": 20,
      "metadata": {
        "colab": {
          "base_uri": "https://localhost:8080/",
          "height": 241
        },
        "id": "89face90-d187-4885-a695-12fbf7d87541",
        "outputId": "b544ad27-935a-4a31-fd5c-fc7c83f530bb"
      },
      "outputs": [
        {
          "output_type": "execute_result",
          "data": {
            "text/plain": [
              "       id  {other}    {}  {α, β}  {α, γ}  {α, δ}  {α, ε, η}  {α, ε, θ}  \\\n",
              "0  200000      0.2  0.05    0.05    0.05    0.05       0.05       0.05   \n",
              "1  200001      0.2  0.05    0.05    0.05    0.05       0.05       0.05   \n",
              "2  200002      0.2  0.05    0.05    0.05    0.05       0.05       0.05   \n",
              "3  200003      0.2  0.05    0.05    0.05    0.05       0.05       0.05   \n",
              "4  200004      0.2  0.05    0.05    0.05    0.05       0.05       0.05   \n",
              "\n",
              "   {α, ε, ψ}  {α, ε}  {α, η}  {α, θ}  {α, λ}  {α, μ}  {α, π}  {α, ψ}   {α}  \\\n",
              "0       0.05    0.05    0.05    0.05    0.05    0.05    0.05    0.05  0.05   \n",
              "1       0.05    0.05    0.05    0.05    0.05    0.05    0.05    0.05  0.05   \n",
              "2       0.05    0.05    0.05    0.05    0.05    0.05    0.05    0.05  0.05   \n",
              "3       0.05    0.05    0.05    0.05    0.05    0.05    0.05    0.05  0.05   \n",
              "4       0.05    0.05    0.05    0.05    0.05    0.05    0.05    0.05  0.05   \n",
              "\n",
              "    {λ}  \n",
              "0  0.05  \n",
              "1  0.05  \n",
              "2  0.05  \n",
              "3  0.05  \n",
              "4  0.05  "
            ],
            "text/html": [
              "\n",
              "  <div id=\"df-f4176810-c3a0-4494-b22f-8e4f10e31791\" class=\"colab-df-container\">\n",
              "    <div>\n",
              "<style scoped>\n",
              "    .dataframe tbody tr th:only-of-type {\n",
              "        vertical-align: middle;\n",
              "    }\n",
              "\n",
              "    .dataframe tbody tr th {\n",
              "        vertical-align: top;\n",
              "    }\n",
              "\n",
              "    .dataframe thead th {\n",
              "        text-align: right;\n",
              "    }\n",
              "</style>\n",
              "<table border=\"1\" class=\"dataframe\">\n",
              "  <thead>\n",
              "    <tr style=\"text-align: right;\">\n",
              "      <th></th>\n",
              "      <th>id</th>\n",
              "      <th>{other}</th>\n",
              "      <th>{}</th>\n",
              "      <th>{α, β}</th>\n",
              "      <th>{α, γ}</th>\n",
              "      <th>{α, δ}</th>\n",
              "      <th>{α, ε, η}</th>\n",
              "      <th>{α, ε, θ}</th>\n",
              "      <th>{α, ε, ψ}</th>\n",
              "      <th>{α, ε}</th>\n",
              "      <th>{α, η}</th>\n",
              "      <th>{α, θ}</th>\n",
              "      <th>{α, λ}</th>\n",
              "      <th>{α, μ}</th>\n",
              "      <th>{α, π}</th>\n",
              "      <th>{α, ψ}</th>\n",
              "      <th>{α}</th>\n",
              "      <th>{λ}</th>\n",
              "    </tr>\n",
              "  </thead>\n",
              "  <tbody>\n",
              "    <tr>\n",
              "      <th>0</th>\n",
              "      <td>200000</td>\n",
              "      <td>0.2</td>\n",
              "      <td>0.05</td>\n",
              "      <td>0.05</td>\n",
              "      <td>0.05</td>\n",
              "      <td>0.05</td>\n",
              "      <td>0.05</td>\n",
              "      <td>0.05</td>\n",
              "      <td>0.05</td>\n",
              "      <td>0.05</td>\n",
              "      <td>0.05</td>\n",
              "      <td>0.05</td>\n",
              "      <td>0.05</td>\n",
              "      <td>0.05</td>\n",
              "      <td>0.05</td>\n",
              "      <td>0.05</td>\n",
              "      <td>0.05</td>\n",
              "      <td>0.05</td>\n",
              "    </tr>\n",
              "    <tr>\n",
              "      <th>1</th>\n",
              "      <td>200001</td>\n",
              "      <td>0.2</td>\n",
              "      <td>0.05</td>\n",
              "      <td>0.05</td>\n",
              "      <td>0.05</td>\n",
              "      <td>0.05</td>\n",
              "      <td>0.05</td>\n",
              "      <td>0.05</td>\n",
              "      <td>0.05</td>\n",
              "      <td>0.05</td>\n",
              "      <td>0.05</td>\n",
              "      <td>0.05</td>\n",
              "      <td>0.05</td>\n",
              "      <td>0.05</td>\n",
              "      <td>0.05</td>\n",
              "      <td>0.05</td>\n",
              "      <td>0.05</td>\n",
              "      <td>0.05</td>\n",
              "    </tr>\n",
              "    <tr>\n",
              "      <th>2</th>\n",
              "      <td>200002</td>\n",
              "      <td>0.2</td>\n",
              "      <td>0.05</td>\n",
              "      <td>0.05</td>\n",
              "      <td>0.05</td>\n",
              "      <td>0.05</td>\n",
              "      <td>0.05</td>\n",
              "      <td>0.05</td>\n",
              "      <td>0.05</td>\n",
              "      <td>0.05</td>\n",
              "      <td>0.05</td>\n",
              "      <td>0.05</td>\n",
              "      <td>0.05</td>\n",
              "      <td>0.05</td>\n",
              "      <td>0.05</td>\n",
              "      <td>0.05</td>\n",
              "      <td>0.05</td>\n",
              "      <td>0.05</td>\n",
              "    </tr>\n",
              "    <tr>\n",
              "      <th>3</th>\n",
              "      <td>200003</td>\n",
              "      <td>0.2</td>\n",
              "      <td>0.05</td>\n",
              "      <td>0.05</td>\n",
              "      <td>0.05</td>\n",
              "      <td>0.05</td>\n",
              "      <td>0.05</td>\n",
              "      <td>0.05</td>\n",
              "      <td>0.05</td>\n",
              "      <td>0.05</td>\n",
              "      <td>0.05</td>\n",
              "      <td>0.05</td>\n",
              "      <td>0.05</td>\n",
              "      <td>0.05</td>\n",
              "      <td>0.05</td>\n",
              "      <td>0.05</td>\n",
              "      <td>0.05</td>\n",
              "      <td>0.05</td>\n",
              "    </tr>\n",
              "    <tr>\n",
              "      <th>4</th>\n",
              "      <td>200004</td>\n",
              "      <td>0.2</td>\n",
              "      <td>0.05</td>\n",
              "      <td>0.05</td>\n",
              "      <td>0.05</td>\n",
              "      <td>0.05</td>\n",
              "      <td>0.05</td>\n",
              "      <td>0.05</td>\n",
              "      <td>0.05</td>\n",
              "      <td>0.05</td>\n",
              "      <td>0.05</td>\n",
              "      <td>0.05</td>\n",
              "      <td>0.05</td>\n",
              "      <td>0.05</td>\n",
              "      <td>0.05</td>\n",
              "      <td>0.05</td>\n",
              "      <td>0.05</td>\n",
              "      <td>0.05</td>\n",
              "    </tr>\n",
              "  </tbody>\n",
              "</table>\n",
              "</div>\n",
              "    <div class=\"colab-df-buttons\">\n",
              "\n",
              "  <div class=\"colab-df-container\">\n",
              "    <button class=\"colab-df-convert\" onclick=\"convertToInteractive('df-f4176810-c3a0-4494-b22f-8e4f10e31791')\"\n",
              "            title=\"Convert this dataframe to an interactive table.\"\n",
              "            style=\"display:none;\">\n",
              "\n",
              "  <svg xmlns=\"http://www.w3.org/2000/svg\" height=\"24px\" viewBox=\"0 -960 960 960\">\n",
              "    <path d=\"M120-120v-720h720v720H120Zm60-500h600v-160H180v160Zm220 220h160v-160H400v160Zm0 220h160v-160H400v160ZM180-400h160v-160H180v160Zm440 0h160v-160H620v160ZM180-180h160v-160H180v160Zm440 0h160v-160H620v160Z\"/>\n",
              "  </svg>\n",
              "    </button>\n",
              "\n",
              "  <style>\n",
              "    .colab-df-container {\n",
              "      display:flex;\n",
              "      gap: 12px;\n",
              "    }\n",
              "\n",
              "    .colab-df-convert {\n",
              "      background-color: #E8F0FE;\n",
              "      border: none;\n",
              "      border-radius: 50%;\n",
              "      cursor: pointer;\n",
              "      display: none;\n",
              "      fill: #1967D2;\n",
              "      height: 32px;\n",
              "      padding: 0 0 0 0;\n",
              "      width: 32px;\n",
              "    }\n",
              "\n",
              "    .colab-df-convert:hover {\n",
              "      background-color: #E2EBFA;\n",
              "      box-shadow: 0px 1px 2px rgba(60, 64, 67, 0.3), 0px 1px 3px 1px rgba(60, 64, 67, 0.15);\n",
              "      fill: #174EA6;\n",
              "    }\n",
              "\n",
              "    .colab-df-buttons div {\n",
              "      margin-bottom: 4px;\n",
              "    }\n",
              "\n",
              "    [theme=dark] .colab-df-convert {\n",
              "      background-color: #3B4455;\n",
              "      fill: #D2E3FC;\n",
              "    }\n",
              "\n",
              "    [theme=dark] .colab-df-convert:hover {\n",
              "      background-color: #434B5C;\n",
              "      box-shadow: 0px 1px 3px 1px rgba(0, 0, 0, 0.15);\n",
              "      filter: drop-shadow(0px 1px 2px rgba(0, 0, 0, 0.3));\n",
              "      fill: #FFFFFF;\n",
              "    }\n",
              "  </style>\n",
              "\n",
              "    <script>\n",
              "      const buttonEl =\n",
              "        document.querySelector('#df-f4176810-c3a0-4494-b22f-8e4f10e31791 button.colab-df-convert');\n",
              "      buttonEl.style.display =\n",
              "        google.colab.kernel.accessAllowed ? 'block' : 'none';\n",
              "\n",
              "      async function convertToInteractive(key) {\n",
              "        const element = document.querySelector('#df-f4176810-c3a0-4494-b22f-8e4f10e31791');\n",
              "        const dataTable =\n",
              "          await google.colab.kernel.invokeFunction('convertToInteractive',\n",
              "                                                    [key], {});\n",
              "        if (!dataTable) return;\n",
              "\n",
              "        const docLinkHtml = 'Like what you see? Visit the ' +\n",
              "          '<a target=\"_blank\" href=https://colab.research.google.com/notebooks/data_table.ipynb>data table notebook</a>'\n",
              "          + ' to learn more about interactive tables.';\n",
              "        element.innerHTML = '';\n",
              "        dataTable['output_type'] = 'display_data';\n",
              "        await google.colab.output.renderOutput(dataTable, element);\n",
              "        const docLink = document.createElement('div');\n",
              "        docLink.innerHTML = docLinkHtml;\n",
              "        element.appendChild(docLink);\n",
              "      }\n",
              "    </script>\n",
              "  </div>\n",
              "\n",
              "\n",
              "<div id=\"df-76839765-57dc-42ad-a0a3-a7e3fd7ca7ab\">\n",
              "  <button class=\"colab-df-quickchart\" onclick=\"quickchart('df-76839765-57dc-42ad-a0a3-a7e3fd7ca7ab')\"\n",
              "            title=\"Suggest charts\"\n",
              "            style=\"display:none;\">\n",
              "\n",
              "<svg xmlns=\"http://www.w3.org/2000/svg\" height=\"24px\"viewBox=\"0 0 24 24\"\n",
              "     width=\"24px\">\n",
              "    <g>\n",
              "        <path d=\"M19 3H5c-1.1 0-2 .9-2 2v14c0 1.1.9 2 2 2h14c1.1 0 2-.9 2-2V5c0-1.1-.9-2-2-2zM9 17H7v-7h2v7zm4 0h-2V7h2v10zm4 0h-2v-4h2v4z\"/>\n",
              "    </g>\n",
              "</svg>\n",
              "  </button>\n",
              "\n",
              "<style>\n",
              "  .colab-df-quickchart {\n",
              "      --bg-color: #E8F0FE;\n",
              "      --fill-color: #1967D2;\n",
              "      --hover-bg-color: #E2EBFA;\n",
              "      --hover-fill-color: #174EA6;\n",
              "      --disabled-fill-color: #AAA;\n",
              "      --disabled-bg-color: #DDD;\n",
              "  }\n",
              "\n",
              "  [theme=dark] .colab-df-quickchart {\n",
              "      --bg-color: #3B4455;\n",
              "      --fill-color: #D2E3FC;\n",
              "      --hover-bg-color: #434B5C;\n",
              "      --hover-fill-color: #FFFFFF;\n",
              "      --disabled-bg-color: #3B4455;\n",
              "      --disabled-fill-color: #666;\n",
              "  }\n",
              "\n",
              "  .colab-df-quickchart {\n",
              "    background-color: var(--bg-color);\n",
              "    border: none;\n",
              "    border-radius: 50%;\n",
              "    cursor: pointer;\n",
              "    display: none;\n",
              "    fill: var(--fill-color);\n",
              "    height: 32px;\n",
              "    padding: 0;\n",
              "    width: 32px;\n",
              "  }\n",
              "\n",
              "  .colab-df-quickchart:hover {\n",
              "    background-color: var(--hover-bg-color);\n",
              "    box-shadow: 0 1px 2px rgba(60, 64, 67, 0.3), 0 1px 3px 1px rgba(60, 64, 67, 0.15);\n",
              "    fill: var(--button-hover-fill-color);\n",
              "  }\n",
              "\n",
              "  .colab-df-quickchart-complete:disabled,\n",
              "  .colab-df-quickchart-complete:disabled:hover {\n",
              "    background-color: var(--disabled-bg-color);\n",
              "    fill: var(--disabled-fill-color);\n",
              "    box-shadow: none;\n",
              "  }\n",
              "\n",
              "  .colab-df-spinner {\n",
              "    border: 2px solid var(--fill-color);\n",
              "    border-color: transparent;\n",
              "    border-bottom-color: var(--fill-color);\n",
              "    animation:\n",
              "      spin 1s steps(1) infinite;\n",
              "  }\n",
              "\n",
              "  @keyframes spin {\n",
              "    0% {\n",
              "      border-color: transparent;\n",
              "      border-bottom-color: var(--fill-color);\n",
              "      border-left-color: var(--fill-color);\n",
              "    }\n",
              "    20% {\n",
              "      border-color: transparent;\n",
              "      border-left-color: var(--fill-color);\n",
              "      border-top-color: var(--fill-color);\n",
              "    }\n",
              "    30% {\n",
              "      border-color: transparent;\n",
              "      border-left-color: var(--fill-color);\n",
              "      border-top-color: var(--fill-color);\n",
              "      border-right-color: var(--fill-color);\n",
              "    }\n",
              "    40% {\n",
              "      border-color: transparent;\n",
              "      border-right-color: var(--fill-color);\n",
              "      border-top-color: var(--fill-color);\n",
              "    }\n",
              "    60% {\n",
              "      border-color: transparent;\n",
              "      border-right-color: var(--fill-color);\n",
              "    }\n",
              "    80% {\n",
              "      border-color: transparent;\n",
              "      border-right-color: var(--fill-color);\n",
              "      border-bottom-color: var(--fill-color);\n",
              "    }\n",
              "    90% {\n",
              "      border-color: transparent;\n",
              "      border-bottom-color: var(--fill-color);\n",
              "    }\n",
              "  }\n",
              "</style>\n",
              "\n",
              "  <script>\n",
              "    async function quickchart(key) {\n",
              "      const quickchartButtonEl =\n",
              "        document.querySelector('#' + key + ' button');\n",
              "      quickchartButtonEl.disabled = true;  // To prevent multiple clicks.\n",
              "      quickchartButtonEl.classList.add('colab-df-spinner');\n",
              "      try {\n",
              "        const charts = await google.colab.kernel.invokeFunction(\n",
              "            'suggestCharts', [key], {});\n",
              "      } catch (error) {\n",
              "        console.error('Error during call to suggestCharts:', error);\n",
              "      }\n",
              "      quickchartButtonEl.classList.remove('colab-df-spinner');\n",
              "      quickchartButtonEl.classList.add('colab-df-quickchart-complete');\n",
              "    }\n",
              "    (() => {\n",
              "      let quickchartButtonEl =\n",
              "        document.querySelector('#df-76839765-57dc-42ad-a0a3-a7e3fd7ca7ab button');\n",
              "      quickchartButtonEl.style.display =\n",
              "        google.colab.kernel.accessAllowed ? 'block' : 'none';\n",
              "    })();\n",
              "  </script>\n",
              "</div>\n",
              "    </div>\n",
              "  </div>\n"
            ],
            "application/vnd.google.colaboratory.intrinsic+json": {
              "type": "dataframe",
              "variable_name": "sample_submission_df",
              "summary": "{\n  \"name\": \"sample_submission_df\",\n  \"rows\": 100000,\n  \"fields\": [\n    {\n      \"column\": \"id\",\n      \"properties\": {\n        \"dtype\": \"number\",\n        \"std\": 28867,\n        \"min\": 200000,\n        \"max\": 299999,\n        \"num_unique_values\": 100000,\n        \"samples\": [\n          275721,\n          280184,\n          219864\n        ],\n        \"semantic_type\": \"\",\n        \"description\": \"\"\n      }\n    },\n    {\n      \"column\": \"{other}\",\n      \"properties\": {\n        \"dtype\": \"number\",\n        \"std\": 2.775571439454783e-17,\n        \"min\": 0.2,\n        \"max\": 0.2,\n        \"num_unique_values\": 1,\n        \"samples\": [\n          0.2\n        ],\n        \"semantic_type\": \"\",\n        \"description\": \"\"\n      }\n    },\n    {\n      \"column\": \"{}\",\n      \"properties\": {\n        \"dtype\": \"number\",\n        \"std\": 6.938928598636958e-18,\n        \"min\": 0.05,\n        \"max\": 0.05,\n        \"num_unique_values\": 1,\n        \"samples\": [\n          0.05\n        ],\n        \"semantic_type\": \"\",\n        \"description\": \"\"\n      }\n    },\n    {\n      \"column\": \"{\\u03b1, \\u03b2}\",\n      \"properties\": {\n        \"dtype\": \"number\",\n        \"std\": 6.938928598636958e-18,\n        \"min\": 0.05,\n        \"max\": 0.05,\n        \"num_unique_values\": 1,\n        \"samples\": [\n          0.05\n        ],\n        \"semantic_type\": \"\",\n        \"description\": \"\"\n      }\n    },\n    {\n      \"column\": \"{\\u03b1, \\u03b3}\",\n      \"properties\": {\n        \"dtype\": \"number\",\n        \"std\": 6.938928598636958e-18,\n        \"min\": 0.05,\n        \"max\": 0.05,\n        \"num_unique_values\": 1,\n        \"samples\": [\n          0.05\n        ],\n        \"semantic_type\": \"\",\n        \"description\": \"\"\n      }\n    },\n    {\n      \"column\": \"{\\u03b1, \\u03b4}\",\n      \"properties\": {\n        \"dtype\": \"number\",\n        \"std\": 6.938928598636958e-18,\n        \"min\": 0.05,\n        \"max\": 0.05,\n        \"num_unique_values\": 1,\n        \"samples\": [\n          0.05\n        ],\n        \"semantic_type\": \"\",\n        \"description\": \"\"\n      }\n    },\n    {\n      \"column\": \"{\\u03b1, \\u03b5, \\u03b7}\",\n      \"properties\": {\n        \"dtype\": \"number\",\n        \"std\": 6.938928598636958e-18,\n        \"min\": 0.05,\n        \"max\": 0.05,\n        \"num_unique_values\": 1,\n        \"samples\": [\n          0.05\n        ],\n        \"semantic_type\": \"\",\n        \"description\": \"\"\n      }\n    },\n    {\n      \"column\": \"{\\u03b1, \\u03b5, \\u03b8}\",\n      \"properties\": {\n        \"dtype\": \"number\",\n        \"std\": 6.938928598636958e-18,\n        \"min\": 0.05,\n        \"max\": 0.05,\n        \"num_unique_values\": 1,\n        \"samples\": [\n          0.05\n        ],\n        \"semantic_type\": \"\",\n        \"description\": \"\"\n      }\n    },\n    {\n      \"column\": \"{\\u03b1, \\u03b5, \\u03c8}\",\n      \"properties\": {\n        \"dtype\": \"number\",\n        \"std\": 6.938928598636958e-18,\n        \"min\": 0.05,\n        \"max\": 0.05,\n        \"num_unique_values\": 1,\n        \"samples\": [\n          0.05\n        ],\n        \"semantic_type\": \"\",\n        \"description\": \"\"\n      }\n    },\n    {\n      \"column\": \"{\\u03b1, \\u03b5}\",\n      \"properties\": {\n        \"dtype\": \"number\",\n        \"std\": 6.938928598636958e-18,\n        \"min\": 0.05,\n        \"max\": 0.05,\n        \"num_unique_values\": 1,\n        \"samples\": [\n          0.05\n        ],\n        \"semantic_type\": \"\",\n        \"description\": \"\"\n      }\n    },\n    {\n      \"column\": \"{\\u03b1, \\u03b7}\",\n      \"properties\": {\n        \"dtype\": \"number\",\n        \"std\": 6.938928598636958e-18,\n        \"min\": 0.05,\n        \"max\": 0.05,\n        \"num_unique_values\": 1,\n        \"samples\": [\n          0.05\n        ],\n        \"semantic_type\": \"\",\n        \"description\": \"\"\n      }\n    },\n    {\n      \"column\": \"{\\u03b1, \\u03b8}\",\n      \"properties\": {\n        \"dtype\": \"number\",\n        \"std\": 6.938928598636958e-18,\n        \"min\": 0.05,\n        \"max\": 0.05,\n        \"num_unique_values\": 1,\n        \"samples\": [\n          0.05\n        ],\n        \"semantic_type\": \"\",\n        \"description\": \"\"\n      }\n    },\n    {\n      \"column\": \"{\\u03b1, \\u03bb}\",\n      \"properties\": {\n        \"dtype\": \"number\",\n        \"std\": 6.938928598636958e-18,\n        \"min\": 0.05,\n        \"max\": 0.05,\n        \"num_unique_values\": 1,\n        \"samples\": [\n          0.05\n        ],\n        \"semantic_type\": \"\",\n        \"description\": \"\"\n      }\n    },\n    {\n      \"column\": \"{\\u03b1, \\u03bc}\",\n      \"properties\": {\n        \"dtype\": \"number\",\n        \"std\": 6.938928598636958e-18,\n        \"min\": 0.05,\n        \"max\": 0.05,\n        \"num_unique_values\": 1,\n        \"samples\": [\n          0.05\n        ],\n        \"semantic_type\": \"\",\n        \"description\": \"\"\n      }\n    },\n    {\n      \"column\": \"{\\u03b1, \\u03c0}\",\n      \"properties\": {\n        \"dtype\": \"number\",\n        \"std\": 6.938928598636958e-18,\n        \"min\": 0.05,\n        \"max\": 0.05,\n        \"num_unique_values\": 1,\n        \"samples\": [\n          0.05\n        ],\n        \"semantic_type\": \"\",\n        \"description\": \"\"\n      }\n    },\n    {\n      \"column\": \"{\\u03b1, \\u03c8}\",\n      \"properties\": {\n        \"dtype\": \"number\",\n        \"std\": 6.938928598636958e-18,\n        \"min\": 0.05,\n        \"max\": 0.05,\n        \"num_unique_values\": 1,\n        \"samples\": [\n          0.05\n        ],\n        \"semantic_type\": \"\",\n        \"description\": \"\"\n      }\n    },\n    {\n      \"column\": \"{\\u03b1}\",\n      \"properties\": {\n        \"dtype\": \"number\",\n        \"std\": 6.938928598636958e-18,\n        \"min\": 0.05,\n        \"max\": 0.05,\n        \"num_unique_values\": 1,\n        \"samples\": [\n          0.05\n        ],\n        \"semantic_type\": \"\",\n        \"description\": \"\"\n      }\n    },\n    {\n      \"column\": \"{\\u03bb}\",\n      \"properties\": {\n        \"dtype\": \"number\",\n        \"std\": 6.938928598636958e-18,\n        \"min\": 0.05,\n        \"max\": 0.05,\n        \"num_unique_values\": 1,\n        \"samples\": [\n          0.05\n        ],\n        \"semantic_type\": \"\",\n        \"description\": \"\"\n      }\n    }\n  ]\n}"
            }
          },
          "metadata": {},
          "execution_count": 20
        }
      ],
      "source": [
        "sample_submission_df.head()"
      ],
      "id": "89face90-d187-4885-a695-12fbf7d87541"
    },
    {
      "cell_type": "markdown",
      "metadata": {
        "id": "1qVgADkI1MnS"
      },
      "source": [
        "Для тестовой выборки будем использовать только последний месяц"
      ],
      "id": "1qVgADkI1MnS"
    },
    {
      "cell_type": "code",
      "execution_count": 19,
      "metadata": {
        "id": "9bf790af-ed40-40bd-8cd2-196246f8856f"
      },
      "outputs": [],
      "source": [
        "last_m_test_df = test_df[test_df[\"date\"] == \"month_6\"]\n",
        "last_m_test_df = last_m_test_df.drop([\"id\", \"date\"], axis=1)"
      ],
      "id": "9bf790af-ed40-40bd-8cd2-196246f8856f"
    },
    {
      "cell_type": "code",
      "execution_count": null,
      "metadata": {
        "id": "5585fd22-3b4f-44f5-a673-777fec4fedc5"
      },
      "outputs": [],
      "source": [
        "test_pred_proba = model_full.predict_proba(last_m_test_df[selected_features])\n",
        "test_pred_proba_df = pd.DataFrame(test_pred_proba, columns=model.classes_)\n",
        "sorted_classes = sorted(test_pred_proba_df.columns.to_list())\n",
        "test_pred_proba_df = test_pred_proba_df[sorted_classes]"
      ],
      "id": "5585fd22-3b4f-44f5-a673-777fec4fedc5"
    },
    {
      "cell_type": "code",
      "execution_count": 25,
      "metadata": {
        "colab": {
          "base_uri": "https://localhost:8080/"
        },
        "id": "xUa5e3c4UcSe",
        "outputId": "87e46c62-c5cb-4b01-e4bd-ea9c36fb3e45"
      },
      "outputs": [
        {
          "output_type": "execute_result",
          "data": {
            "text/plain": [
              "(100000, 17)"
            ]
          },
          "metadata": {},
          "execution_count": 25
        }
      ],
      "source": [
        "test_pred_proba_df.shape"
      ],
      "id": "xUa5e3c4UcSe"
    },
    {
      "cell_type": "code",
      "execution_count": 93,
      "metadata": {
        "colab": {
          "base_uri": "https://localhost:8080/",
          "height": 400
        },
        "id": "QqDRm_FB1oWF",
        "outputId": "e35cbefe-b8fe-45dd-8d97-1687efcdd3cf"
      },
      "outputs": [
        {
          "output_type": "execute_result",
          "data": {
            "text/plain": [
              "    {other}        {}    {α, β}    {α, γ}    {α, δ}  {α, ε, η}  {α, ε, θ}  \\\n",
              "0  0.019205  0.034602  0.030663  0.028498  0.002695   0.000423   0.000660   \n",
              "1  0.014949  0.599694  0.004097  0.010794  0.001728   0.001160   0.000741   \n",
              "2  0.749838  0.024284  0.009491  0.045721  0.011495   0.001067   0.003439   \n",
              "3  0.053507  0.576895  0.004384  0.011626  0.001348   0.000730   0.000657   \n",
              "4  0.051955  0.180072  0.008029  0.023582  0.003885   0.001337   0.000616   \n",
              "5  0.075067  0.041817  0.041779  0.078582  0.040956   0.000444   0.004566   \n",
              "6  0.013520  0.663172  0.003623  0.008904  0.001340   0.000396   0.000518   \n",
              "7  0.021394  0.027500  0.015808  0.030849  0.003047   0.000371   0.000301   \n",
              "8  0.056336  0.305281  0.008190  0.023505  0.003277   0.001213   0.000863   \n",
              "9  0.024462  0.241121  0.063267  0.113612  0.002255   0.000666   0.000559   \n",
              "\n",
              "   {α, ε, ψ}    {α, ε}    {α, η}    {α, θ}    {α, λ}    {α, μ}    {α, π}  \\\n",
              "0   0.000302  0.003421  0.011316  0.014111  0.000269  0.002111  0.000008   \n",
              "1   0.000145  0.002860  0.015703  0.003345  0.000264  0.000913  0.000009   \n",
              "2   0.001780  0.022122  0.015922  0.014727  0.000438  0.003226  0.000016   \n",
              "3   0.000262  0.014055  0.022412  0.003792  0.000277  0.000915  0.000010   \n",
              "4   0.000170  0.004084  0.264963  0.005932  0.000440  0.003186  0.000015   \n",
              "5   0.000195  0.009593  0.010145  0.011200  0.016953  0.000970  0.000015   \n",
              "6   0.000091  0.001917  0.009051  0.002987  0.000875  0.000686  0.000013   \n",
              "7   0.000074  0.002422  0.028712  0.004699  0.000989  0.018619  0.000007   \n",
              "8   0.000192  0.006082  0.119744  0.006158  0.000488  0.002103  0.000016   \n",
              "9   0.000152  0.003760  0.018643  0.005410  0.000459  0.001935  0.000014   \n",
              "\n",
              "     {α, ψ}       {α}       {λ}  \n",
              "0  0.000864  0.850791  0.000063  \n",
              "1  0.002690  0.340794  0.000113  \n",
              "2  0.024966  0.071395  0.000072  \n",
              "3  0.000795  0.308298  0.000038  \n",
              "4  0.001352  0.450313  0.000071  \n",
              "5  0.003567  0.664075  0.000077  \n",
              "6  0.001549  0.291319  0.000041  \n",
              "7  0.000623  0.844557  0.000029  \n",
              "8  0.001639  0.464805  0.000107  \n",
              "9  0.001227  0.522374  0.000086  "
            ],
            "text/html": [
              "\n",
              "  <div id=\"df-365d0bbb-3632-4188-b303-a1bf9b236d4b\" class=\"colab-df-container\">\n",
              "    <div>\n",
              "<style scoped>\n",
              "    .dataframe tbody tr th:only-of-type {\n",
              "        vertical-align: middle;\n",
              "    }\n",
              "\n",
              "    .dataframe tbody tr th {\n",
              "        vertical-align: top;\n",
              "    }\n",
              "\n",
              "    .dataframe thead th {\n",
              "        text-align: right;\n",
              "    }\n",
              "</style>\n",
              "<table border=\"1\" class=\"dataframe\">\n",
              "  <thead>\n",
              "    <tr style=\"text-align: right;\">\n",
              "      <th></th>\n",
              "      <th>{other}</th>\n",
              "      <th>{}</th>\n",
              "      <th>{α, β}</th>\n",
              "      <th>{α, γ}</th>\n",
              "      <th>{α, δ}</th>\n",
              "      <th>{α, ε, η}</th>\n",
              "      <th>{α, ε, θ}</th>\n",
              "      <th>{α, ε, ψ}</th>\n",
              "      <th>{α, ε}</th>\n",
              "      <th>{α, η}</th>\n",
              "      <th>{α, θ}</th>\n",
              "      <th>{α, λ}</th>\n",
              "      <th>{α, μ}</th>\n",
              "      <th>{α, π}</th>\n",
              "      <th>{α, ψ}</th>\n",
              "      <th>{α}</th>\n",
              "      <th>{λ}</th>\n",
              "    </tr>\n",
              "  </thead>\n",
              "  <tbody>\n",
              "    <tr>\n",
              "      <th>0</th>\n",
              "      <td>0.019205</td>\n",
              "      <td>0.034602</td>\n",
              "      <td>0.030663</td>\n",
              "      <td>0.028498</td>\n",
              "      <td>0.002695</td>\n",
              "      <td>0.000423</td>\n",
              "      <td>0.000660</td>\n",
              "      <td>0.000302</td>\n",
              "      <td>0.003421</td>\n",
              "      <td>0.011316</td>\n",
              "      <td>0.014111</td>\n",
              "      <td>0.000269</td>\n",
              "      <td>0.002111</td>\n",
              "      <td>0.000008</td>\n",
              "      <td>0.000864</td>\n",
              "      <td>0.850791</td>\n",
              "      <td>0.000063</td>\n",
              "    </tr>\n",
              "    <tr>\n",
              "      <th>1</th>\n",
              "      <td>0.014949</td>\n",
              "      <td>0.599694</td>\n",
              "      <td>0.004097</td>\n",
              "      <td>0.010794</td>\n",
              "      <td>0.001728</td>\n",
              "      <td>0.001160</td>\n",
              "      <td>0.000741</td>\n",
              "      <td>0.000145</td>\n",
              "      <td>0.002860</td>\n",
              "      <td>0.015703</td>\n",
              "      <td>0.003345</td>\n",
              "      <td>0.000264</td>\n",
              "      <td>0.000913</td>\n",
              "      <td>0.000009</td>\n",
              "      <td>0.002690</td>\n",
              "      <td>0.340794</td>\n",
              "      <td>0.000113</td>\n",
              "    </tr>\n",
              "    <tr>\n",
              "      <th>2</th>\n",
              "      <td>0.749838</td>\n",
              "      <td>0.024284</td>\n",
              "      <td>0.009491</td>\n",
              "      <td>0.045721</td>\n",
              "      <td>0.011495</td>\n",
              "      <td>0.001067</td>\n",
              "      <td>0.003439</td>\n",
              "      <td>0.001780</td>\n",
              "      <td>0.022122</td>\n",
              "      <td>0.015922</td>\n",
              "      <td>0.014727</td>\n",
              "      <td>0.000438</td>\n",
              "      <td>0.003226</td>\n",
              "      <td>0.000016</td>\n",
              "      <td>0.024966</td>\n",
              "      <td>0.071395</td>\n",
              "      <td>0.000072</td>\n",
              "    </tr>\n",
              "    <tr>\n",
              "      <th>3</th>\n",
              "      <td>0.053507</td>\n",
              "      <td>0.576895</td>\n",
              "      <td>0.004384</td>\n",
              "      <td>0.011626</td>\n",
              "      <td>0.001348</td>\n",
              "      <td>0.000730</td>\n",
              "      <td>0.000657</td>\n",
              "      <td>0.000262</td>\n",
              "      <td>0.014055</td>\n",
              "      <td>0.022412</td>\n",
              "      <td>0.003792</td>\n",
              "      <td>0.000277</td>\n",
              "      <td>0.000915</td>\n",
              "      <td>0.000010</td>\n",
              "      <td>0.000795</td>\n",
              "      <td>0.308298</td>\n",
              "      <td>0.000038</td>\n",
              "    </tr>\n",
              "    <tr>\n",
              "      <th>4</th>\n",
              "      <td>0.051955</td>\n",
              "      <td>0.180072</td>\n",
              "      <td>0.008029</td>\n",
              "      <td>0.023582</td>\n",
              "      <td>0.003885</td>\n",
              "      <td>0.001337</td>\n",
              "      <td>0.000616</td>\n",
              "      <td>0.000170</td>\n",
              "      <td>0.004084</td>\n",
              "      <td>0.264963</td>\n",
              "      <td>0.005932</td>\n",
              "      <td>0.000440</td>\n",
              "      <td>0.003186</td>\n",
              "      <td>0.000015</td>\n",
              "      <td>0.001352</td>\n",
              "      <td>0.450313</td>\n",
              "      <td>0.000071</td>\n",
              "    </tr>\n",
              "    <tr>\n",
              "      <th>5</th>\n",
              "      <td>0.075067</td>\n",
              "      <td>0.041817</td>\n",
              "      <td>0.041779</td>\n",
              "      <td>0.078582</td>\n",
              "      <td>0.040956</td>\n",
              "      <td>0.000444</td>\n",
              "      <td>0.004566</td>\n",
              "      <td>0.000195</td>\n",
              "      <td>0.009593</td>\n",
              "      <td>0.010145</td>\n",
              "      <td>0.011200</td>\n",
              "      <td>0.016953</td>\n",
              "      <td>0.000970</td>\n",
              "      <td>0.000015</td>\n",
              "      <td>0.003567</td>\n",
              "      <td>0.664075</td>\n",
              "      <td>0.000077</td>\n",
              "    </tr>\n",
              "    <tr>\n",
              "      <th>6</th>\n",
              "      <td>0.013520</td>\n",
              "      <td>0.663172</td>\n",
              "      <td>0.003623</td>\n",
              "      <td>0.008904</td>\n",
              "      <td>0.001340</td>\n",
              "      <td>0.000396</td>\n",
              "      <td>0.000518</td>\n",
              "      <td>0.000091</td>\n",
              "      <td>0.001917</td>\n",
              "      <td>0.009051</td>\n",
              "      <td>0.002987</td>\n",
              "      <td>0.000875</td>\n",
              "      <td>0.000686</td>\n",
              "      <td>0.000013</td>\n",
              "      <td>0.001549</td>\n",
              "      <td>0.291319</td>\n",
              "      <td>0.000041</td>\n",
              "    </tr>\n",
              "    <tr>\n",
              "      <th>7</th>\n",
              "      <td>0.021394</td>\n",
              "      <td>0.027500</td>\n",
              "      <td>0.015808</td>\n",
              "      <td>0.030849</td>\n",
              "      <td>0.003047</td>\n",
              "      <td>0.000371</td>\n",
              "      <td>0.000301</td>\n",
              "      <td>0.000074</td>\n",
              "      <td>0.002422</td>\n",
              "      <td>0.028712</td>\n",
              "      <td>0.004699</td>\n",
              "      <td>0.000989</td>\n",
              "      <td>0.018619</td>\n",
              "      <td>0.000007</td>\n",
              "      <td>0.000623</td>\n",
              "      <td>0.844557</td>\n",
              "      <td>0.000029</td>\n",
              "    </tr>\n",
              "    <tr>\n",
              "      <th>8</th>\n",
              "      <td>0.056336</td>\n",
              "      <td>0.305281</td>\n",
              "      <td>0.008190</td>\n",
              "      <td>0.023505</td>\n",
              "      <td>0.003277</td>\n",
              "      <td>0.001213</td>\n",
              "      <td>0.000863</td>\n",
              "      <td>0.000192</td>\n",
              "      <td>0.006082</td>\n",
              "      <td>0.119744</td>\n",
              "      <td>0.006158</td>\n",
              "      <td>0.000488</td>\n",
              "      <td>0.002103</td>\n",
              "      <td>0.000016</td>\n",
              "      <td>0.001639</td>\n",
              "      <td>0.464805</td>\n",
              "      <td>0.000107</td>\n",
              "    </tr>\n",
              "    <tr>\n",
              "      <th>9</th>\n",
              "      <td>0.024462</td>\n",
              "      <td>0.241121</td>\n",
              "      <td>0.063267</td>\n",
              "      <td>0.113612</td>\n",
              "      <td>0.002255</td>\n",
              "      <td>0.000666</td>\n",
              "      <td>0.000559</td>\n",
              "      <td>0.000152</td>\n",
              "      <td>0.003760</td>\n",
              "      <td>0.018643</td>\n",
              "      <td>0.005410</td>\n",
              "      <td>0.000459</td>\n",
              "      <td>0.001935</td>\n",
              "      <td>0.000014</td>\n",
              "      <td>0.001227</td>\n",
              "      <td>0.522374</td>\n",
              "      <td>0.000086</td>\n",
              "    </tr>\n",
              "  </tbody>\n",
              "</table>\n",
              "</div>\n",
              "    <div class=\"colab-df-buttons\">\n",
              "\n",
              "  <div class=\"colab-df-container\">\n",
              "    <button class=\"colab-df-convert\" onclick=\"convertToInteractive('df-365d0bbb-3632-4188-b303-a1bf9b236d4b')\"\n",
              "            title=\"Convert this dataframe to an interactive table.\"\n",
              "            style=\"display:none;\">\n",
              "\n",
              "  <svg xmlns=\"http://www.w3.org/2000/svg\" height=\"24px\" viewBox=\"0 -960 960 960\">\n",
              "    <path d=\"M120-120v-720h720v720H120Zm60-500h600v-160H180v160Zm220 220h160v-160H400v160Zm0 220h160v-160H400v160ZM180-400h160v-160H180v160Zm440 0h160v-160H620v160ZM180-180h160v-160H180v160Zm440 0h160v-160H620v160Z\"/>\n",
              "  </svg>\n",
              "    </button>\n",
              "\n",
              "  <style>\n",
              "    .colab-df-container {\n",
              "      display:flex;\n",
              "      gap: 12px;\n",
              "    }\n",
              "\n",
              "    .colab-df-convert {\n",
              "      background-color: #E8F0FE;\n",
              "      border: none;\n",
              "      border-radius: 50%;\n",
              "      cursor: pointer;\n",
              "      display: none;\n",
              "      fill: #1967D2;\n",
              "      height: 32px;\n",
              "      padding: 0 0 0 0;\n",
              "      width: 32px;\n",
              "    }\n",
              "\n",
              "    .colab-df-convert:hover {\n",
              "      background-color: #E2EBFA;\n",
              "      box-shadow: 0px 1px 2px rgba(60, 64, 67, 0.3), 0px 1px 3px 1px rgba(60, 64, 67, 0.15);\n",
              "      fill: #174EA6;\n",
              "    }\n",
              "\n",
              "    .colab-df-buttons div {\n",
              "      margin-bottom: 4px;\n",
              "    }\n",
              "\n",
              "    [theme=dark] .colab-df-convert {\n",
              "      background-color: #3B4455;\n",
              "      fill: #D2E3FC;\n",
              "    }\n",
              "\n",
              "    [theme=dark] .colab-df-convert:hover {\n",
              "      background-color: #434B5C;\n",
              "      box-shadow: 0px 1px 3px 1px rgba(0, 0, 0, 0.15);\n",
              "      filter: drop-shadow(0px 1px 2px rgba(0, 0, 0, 0.3));\n",
              "      fill: #FFFFFF;\n",
              "    }\n",
              "  </style>\n",
              "\n",
              "    <script>\n",
              "      const buttonEl =\n",
              "        document.querySelector('#df-365d0bbb-3632-4188-b303-a1bf9b236d4b button.colab-df-convert');\n",
              "      buttonEl.style.display =\n",
              "        google.colab.kernel.accessAllowed ? 'block' : 'none';\n",
              "\n",
              "      async function convertToInteractive(key) {\n",
              "        const element = document.querySelector('#df-365d0bbb-3632-4188-b303-a1bf9b236d4b');\n",
              "        const dataTable =\n",
              "          await google.colab.kernel.invokeFunction('convertToInteractive',\n",
              "                                                    [key], {});\n",
              "        if (!dataTable) return;\n",
              "\n",
              "        const docLinkHtml = 'Like what you see? Visit the ' +\n",
              "          '<a target=\"_blank\" href=https://colab.research.google.com/notebooks/data_table.ipynb>data table notebook</a>'\n",
              "          + ' to learn more about interactive tables.';\n",
              "        element.innerHTML = '';\n",
              "        dataTable['output_type'] = 'display_data';\n",
              "        await google.colab.output.renderOutput(dataTable, element);\n",
              "        const docLink = document.createElement('div');\n",
              "        docLink.innerHTML = docLinkHtml;\n",
              "        element.appendChild(docLink);\n",
              "      }\n",
              "    </script>\n",
              "  </div>\n",
              "\n",
              "\n",
              "<div id=\"df-b3c0b76d-8902-47f8-b413-436e5ecfe46f\">\n",
              "  <button class=\"colab-df-quickchart\" onclick=\"quickchart('df-b3c0b76d-8902-47f8-b413-436e5ecfe46f')\"\n",
              "            title=\"Suggest charts\"\n",
              "            style=\"display:none;\">\n",
              "\n",
              "<svg xmlns=\"http://www.w3.org/2000/svg\" height=\"24px\"viewBox=\"0 0 24 24\"\n",
              "     width=\"24px\">\n",
              "    <g>\n",
              "        <path d=\"M19 3H5c-1.1 0-2 .9-2 2v14c0 1.1.9 2 2 2h14c1.1 0 2-.9 2-2V5c0-1.1-.9-2-2-2zM9 17H7v-7h2v7zm4 0h-2V7h2v10zm4 0h-2v-4h2v4z\"/>\n",
              "    </g>\n",
              "</svg>\n",
              "  </button>\n",
              "\n",
              "<style>\n",
              "  .colab-df-quickchart {\n",
              "      --bg-color: #E8F0FE;\n",
              "      --fill-color: #1967D2;\n",
              "      --hover-bg-color: #E2EBFA;\n",
              "      --hover-fill-color: #174EA6;\n",
              "      --disabled-fill-color: #AAA;\n",
              "      --disabled-bg-color: #DDD;\n",
              "  }\n",
              "\n",
              "  [theme=dark] .colab-df-quickchart {\n",
              "      --bg-color: #3B4455;\n",
              "      --fill-color: #D2E3FC;\n",
              "      --hover-bg-color: #434B5C;\n",
              "      --hover-fill-color: #FFFFFF;\n",
              "      --disabled-bg-color: #3B4455;\n",
              "      --disabled-fill-color: #666;\n",
              "  }\n",
              "\n",
              "  .colab-df-quickchart {\n",
              "    background-color: var(--bg-color);\n",
              "    border: none;\n",
              "    border-radius: 50%;\n",
              "    cursor: pointer;\n",
              "    display: none;\n",
              "    fill: var(--fill-color);\n",
              "    height: 32px;\n",
              "    padding: 0;\n",
              "    width: 32px;\n",
              "  }\n",
              "\n",
              "  .colab-df-quickchart:hover {\n",
              "    background-color: var(--hover-bg-color);\n",
              "    box-shadow: 0 1px 2px rgba(60, 64, 67, 0.3), 0 1px 3px 1px rgba(60, 64, 67, 0.15);\n",
              "    fill: var(--button-hover-fill-color);\n",
              "  }\n",
              "\n",
              "  .colab-df-quickchart-complete:disabled,\n",
              "  .colab-df-quickchart-complete:disabled:hover {\n",
              "    background-color: var(--disabled-bg-color);\n",
              "    fill: var(--disabled-fill-color);\n",
              "    box-shadow: none;\n",
              "  }\n",
              "\n",
              "  .colab-df-spinner {\n",
              "    border: 2px solid var(--fill-color);\n",
              "    border-color: transparent;\n",
              "    border-bottom-color: var(--fill-color);\n",
              "    animation:\n",
              "      spin 1s steps(1) infinite;\n",
              "  }\n",
              "\n",
              "  @keyframes spin {\n",
              "    0% {\n",
              "      border-color: transparent;\n",
              "      border-bottom-color: var(--fill-color);\n",
              "      border-left-color: var(--fill-color);\n",
              "    }\n",
              "    20% {\n",
              "      border-color: transparent;\n",
              "      border-left-color: var(--fill-color);\n",
              "      border-top-color: var(--fill-color);\n",
              "    }\n",
              "    30% {\n",
              "      border-color: transparent;\n",
              "      border-left-color: var(--fill-color);\n",
              "      border-top-color: var(--fill-color);\n",
              "      border-right-color: var(--fill-color);\n",
              "    }\n",
              "    40% {\n",
              "      border-color: transparent;\n",
              "      border-right-color: var(--fill-color);\n",
              "      border-top-color: var(--fill-color);\n",
              "    }\n",
              "    60% {\n",
              "      border-color: transparent;\n",
              "      border-right-color: var(--fill-color);\n",
              "    }\n",
              "    80% {\n",
              "      border-color: transparent;\n",
              "      border-right-color: var(--fill-color);\n",
              "      border-bottom-color: var(--fill-color);\n",
              "    }\n",
              "    90% {\n",
              "      border-color: transparent;\n",
              "      border-bottom-color: var(--fill-color);\n",
              "    }\n",
              "  }\n",
              "</style>\n",
              "\n",
              "  <script>\n",
              "    async function quickchart(key) {\n",
              "      const quickchartButtonEl =\n",
              "        document.querySelector('#' + key + ' button');\n",
              "      quickchartButtonEl.disabled = true;  // To prevent multiple clicks.\n",
              "      quickchartButtonEl.classList.add('colab-df-spinner');\n",
              "      try {\n",
              "        const charts = await google.colab.kernel.invokeFunction(\n",
              "            'suggestCharts', [key], {});\n",
              "      } catch (error) {\n",
              "        console.error('Error during call to suggestCharts:', error);\n",
              "      }\n",
              "      quickchartButtonEl.classList.remove('colab-df-spinner');\n",
              "      quickchartButtonEl.classList.add('colab-df-quickchart-complete');\n",
              "    }\n",
              "    (() => {\n",
              "      let quickchartButtonEl =\n",
              "        document.querySelector('#df-b3c0b76d-8902-47f8-b413-436e5ecfe46f button');\n",
              "      quickchartButtonEl.style.display =\n",
              "        google.colab.kernel.accessAllowed ? 'block' : 'none';\n",
              "    })();\n",
              "  </script>\n",
              "</div>\n",
              "    </div>\n",
              "  </div>\n"
            ],
            "application/vnd.google.colaboratory.intrinsic+json": {
              "type": "dataframe",
              "variable_name": "test_pred_proba_df",
              "summary": "{\n  \"name\": \"test_pred_proba_df\",\n  \"rows\": 100000,\n  \"fields\": [\n    {\n      \"column\": \"{other}\",\n      \"properties\": {\n        \"dtype\": \"number\",\n        \"std\": 0.14565856148094106,\n        \"min\": 0.008031001738595006,\n        \"max\": 0.8295209795658414,\n        \"num_unique_values\": 99932,\n        \"samples\": [\n          0.061231367340548036,\n          0.04721506219415767,\n          0.025987077849534135\n        ],\n        \"semantic_type\": \"\",\n        \"description\": \"\"\n      }\n    },\n    {\n      \"column\": \"{}\",\n      \"properties\": {\n        \"dtype\": \"number\",\n        \"std\": 0.23266246347029984,\n        \"min\": 0.017042424823447682,\n        \"max\": 0.8510086460948826,\n        \"num_unique_values\": 99932,\n        \"samples\": [\n          0.031897746328554376,\n          0.4734695914136731,\n          0.0892030535852551\n        ],\n        \"semantic_type\": \"\",\n        \"description\": \"\"\n      }\n    },\n    {\n      \"column\": \"{\\u03b1, \\u03b2}\",\n      \"properties\": {\n        \"dtype\": \"number\",\n        \"std\": 0.056467297344184784,\n        \"min\": 0.0021837133419682843,\n        \"max\": 0.6325792555473272,\n        \"num_unique_values\": 99932,\n        \"samples\": [\n          0.07292547936861626,\n          0.0033058976968264376,\n          0.028337102789428626\n        ],\n        \"semantic_type\": \"\",\n        \"description\": \"\"\n      }\n    },\n    {\n      \"column\": \"{\\u03b1, \\u03b3}\",\n      \"properties\": {\n        \"dtype\": \"number\",\n        \"std\": 0.12895613682873885,\n        \"min\": 0.0049504782582739,\n        \"max\": 0.7848611650008794,\n        \"num_unique_values\": 99932,\n        \"samples\": [\n          0.14734155814695535,\n          0.009066661804551948,\n          0.059549861645713534\n        ],\n        \"semantic_type\": \"\",\n        \"description\": \"\"\n      }\n    },\n    {\n      \"column\": \"{\\u03b1, \\u03b4}\",\n      \"properties\": {\n        \"dtype\": \"number\",\n        \"std\": 0.02170144134983792,\n        \"min\": 0.000793213026713524,\n        \"max\": 0.40435115293295315,\n        \"num_unique_values\": 99932,\n        \"samples\": [\n          0.006757667839269777,\n          0.0012813771842870184,\n          0.0032007015194133277\n        ],\n        \"semantic_type\": \"\",\n        \"description\": \"\"\n      }\n    },\n    {\n      \"column\": \"{\\u03b1, \\u03b5, \\u03b7}\",\n      \"properties\": {\n        \"dtype\": \"number\",\n        \"std\": 0.019191414517005984,\n        \"min\": 0.0002282853125350193,\n        \"max\": 0.7606953252665847,\n        \"num_unique_values\": 99932,\n        \"samples\": [\n          0.0005058614402825468,\n          0.0006376783698969728,\n          0.0005753412765466433\n        ],\n        \"semantic_type\": \"\",\n        \"description\": \"\"\n      }\n    },\n    {\n      \"column\": \"{\\u03b1, \\u03b5, \\u03b8}\",\n      \"properties\": {\n        \"dtype\": \"number\",\n        \"std\": 0.00898405507367321,\n        \"min\": 0.00019430646765682924,\n        \"max\": 0.6106963774520957,\n        \"num_unique_values\": 99932,\n        \"samples\": [\n          0.002746973948631931,\n          0.0003456117001919918,\n          0.000521067274743886\n        ],\n        \"semantic_type\": \"\",\n        \"description\": \"\"\n      }\n    },\n    {\n      \"column\": \"{\\u03b1, \\u03b5, \\u03c8}\",\n      \"properties\": {\n        \"dtype\": \"number\",\n        \"std\": 0.0038477287559175012,\n        \"min\": 5.4771746506558684e-05,\n        \"max\": 0.480558757834257,\n        \"num_unique_values\": 99932,\n        \"samples\": [\n          0.00015826641073481764,\n          9.25600830001741e-05,\n          0.0001321758488894315\n        ],\n        \"semantic_type\": \"\",\n        \"description\": \"\"\n      }\n    },\n    {\n      \"column\": \"{\\u03b1, \\u03b5}\",\n      \"properties\": {\n        \"dtype\": \"number\",\n        \"std\": 0.031283205743674075,\n        \"min\": 0.0011123306635102096,\n        \"max\": 0.584231942992498,\n        \"num_unique_values\": 99932,\n        \"samples\": [\n          0.005542972292522335,\n          0.0018910180875537207,\n          0.0038508276999827994\n        ],\n        \"semantic_type\": \"\",\n        \"description\": \"\"\n      }\n    },\n    {\n      \"column\": \"{\\u03b1, \\u03b7}\",\n      \"properties\": {\n        \"dtype\": \"number\",\n        \"std\": 0.17549876237259476,\n        \"min\": 0.005954614555948894,\n        \"max\": 0.865916152085483,\n        \"num_unique_values\": 99932,\n        \"samples\": [\n          0.009307966835340502,\n          0.15873764103170887,\n          0.015141649554889522\n        ],\n        \"semantic_type\": \"\",\n        \"description\": \"\"\n      }\n    },\n    {\n      \"column\": \"{\\u03b1, \\u03b8}\",\n      \"properties\": {\n        \"dtype\": \"number\",\n        \"std\": 0.04612533772487866,\n        \"min\": 0.001506673129794126,\n        \"max\": 0.741608307411891,\n        \"num_unique_values\": 99932,\n        \"samples\": [\n          0.007638031538605801,\n          0.0024518299912511454,\n          0.006898482988065166\n        ],\n        \"semantic_type\": \"\",\n        \"description\": \"\"\n      }\n    },\n    {\n      \"column\": \"{\\u03b1, \\u03bb}\",\n      \"properties\": {\n        \"dtype\": \"number\",\n        \"std\": 0.00856548534356705,\n        \"min\": 0.00014541407712271575,\n        \"max\": 0.5556858669483065,\n        \"num_unique_values\": 99932,\n        \"samples\": [\n          0.0035662128296853573,\n          0.00024346769731889697,\n          0.0003607103427164376\n        ],\n        \"semantic_type\": \"\",\n        \"description\": \"\"\n      }\n    },\n    {\n      \"column\": \"{\\u03b1, \\u03bc}\",\n      \"properties\": {\n        \"dtype\": \"number\",\n        \"std\": 0.02307846315554689,\n        \"min\": 0.00047199655836425086,\n        \"max\": 0.74943222723251,\n        \"num_unique_values\": 99932,\n        \"samples\": [\n          0.0010662627165288227,\n          0.000881658592361958,\n          0.0020970020679196275\n        ],\n        \"semantic_type\": \"\",\n        \"description\": \"\"\n      }\n    },\n    {\n      \"column\": \"{\\u03b1, \\u03c0}\",\n      \"properties\": {\n        \"dtype\": \"number\",\n        \"std\": 8.39266911535471e-05,\n        \"min\": 4.271365676355254e-06,\n        \"max\": 0.008936033205080886,\n        \"num_unique_values\": 99932,\n        \"samples\": [\n          1.2496196987972125e-05,\n          8.35065934416375e-06,\n          1.1489794588362802e-05\n        ],\n        \"semantic_type\": \"\",\n        \"description\": \"\"\n      }\n    },\n    {\n      \"column\": \"{\\u03b1, \\u03c8}\",\n      \"properties\": {\n        \"dtype\": \"number\",\n        \"std\": 0.0327550549235739,\n        \"min\": 0.0004236691263113761,\n        \"max\": 0.737511036486283,\n        \"num_unique_values\": 99932,\n        \"samples\": [\n          0.058920066939591675,\n          0.0007473948541579958,\n          0.0011087595729460786\n        ],\n        \"semantic_type\": \"\",\n        \"description\": \"\"\n      }\n    },\n    {\n      \"column\": \"{\\u03b1}\",\n      \"properties\": {\n        \"dtype\": \"number\",\n        \"std\": 0.28457932153193155,\n        \"min\": 0.04387184721501558,\n        \"max\": 0.9406374375773703,\n        \"num_unique_values\": 99932,\n        \"samples\": [\n          0.5903381815536479,\n          0.29958879422854684,\n          0.7629689886807637\n        ],\n        \"semantic_type\": \"\",\n        \"description\": \"\"\n      }\n    },\n    {\n      \"column\": \"{\\u03bb}\",\n      \"properties\": {\n        \"dtype\": \"number\",\n        \"std\": 0.0032705963721681073,\n        \"min\": 2.0668832359936112e-05,\n        \"max\": 0.426350181905133,\n        \"num_unique_values\": 99932,\n        \"samples\": [\n          4.288827349646169e-05,\n          3.540441117087945e-05,\n          5.570750860362183e-05\n        ],\n        \"semantic_type\": \"\",\n        \"description\": \"\"\n      }\n    }\n  ]\n}"
            }
          },
          "metadata": {},
          "execution_count": 93
        }
      ],
      "source": [
        "test_pred_proba_df.head(10)"
      ],
      "id": "QqDRm_FB1oWF"
    },
    {
      "cell_type": "code",
      "execution_count": 104,
      "metadata": {
        "id": "a6fbe390-7b56-45a9-8e5b-ab43f9bb7dfc"
      },
      "outputs": [],
      "source": [
        "sample_submission_df[sorted_classes] = test_pred_proba_df\n",
        "sample_submission_df.to_csv(\"lgbm_submission_par_l2_sel_both_500.csv\", index=False)"
      ],
      "id": "a6fbe390-7b56-45a9-8e5b-ab43f9bb7dfc"
    }
  ],
  "metadata": {
    "colab": {
      "provenance": [],
      "toc_visible": true
    },
    "kernelspec": {
      "display_name": "python3",
      "language": "python",
      "name": "python3"
    },
    "language_info": {
      "codemirror_mode": {
        "name": "ipython",
        "version": 3
      },
      "file_extension": ".py",
      "mimetype": "text/x-python",
      "name": "python",
      "nbconvert_exporter": "python",
      "pygments_lexer": "ipython3",
      "version": "3.7.12"
    }
  },
  "nbformat": 4,
  "nbformat_minor": 5
}