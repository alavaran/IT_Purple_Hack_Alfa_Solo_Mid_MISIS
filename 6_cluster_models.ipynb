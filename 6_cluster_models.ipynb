{
  "metadata": {
    "kernelspec": {
      "language": "python",
      "display_name": "Python 3",
      "name": "python3"
    },
    "language_info": {
      "name": "python",
      "version": "3.10.13",
      "mimetype": "text/x-python",
      "codemirror_mode": {
        "name": "ipython",
        "version": 3
      },
      "pygments_lexer": "ipython3",
      "nbconvert_exporter": "python",
      "file_extension": ".py"
    },
    "kaggle": {
      "accelerator": "nvidiaTeslaT4",
      "dataSources": [
        {
          "sourceId": 7798308,
          "sourceType": "datasetVersion",
          "datasetId": 4565742
        }
      ],
      "isInternetEnabled": true,
      "language": "python",
      "sourceType": "notebook",
      "isGpuEnabled": true
    },
    "colab": {
      "provenance": [],
      "toc_visible": true
    }
  },
  "nbformat_minor": 0,
  "nbformat": 4,
  "cells": [
    {
      "cell_type": "markdown",
      "source": [
        "# Загрузка"
      ],
      "metadata": {
        "id": "MMJQ5AvYqQum"
      }
    },
    {
      "cell_type": "code",
      "source": [
        "import numpy as np # linear algebra\n",
        "import pandas as pd # data processing, CSV file I/O (e.g. pd.read_csv)\n",
        "\n",
        "import os\n",
        "for dirname, _, filenames in os.walk('/kaggle/input'):\n",
        "    for filename in filenames:\n",
        "        print(os.path.join(dirname, filename))\n"
      ],
      "metadata": {
        "_uuid": "8f2839f25d086af736a60e9eeb907d3b93b6e0e5",
        "_cell_guid": "b1076dfc-b9ad-4769-8c92-a6c4dae69d19",
        "execution": {
          "iopub.status.busy": "2024-03-13T16:47:34.080594Z",
          "iopub.execute_input": "2024-03-13T16:47:34.080873Z",
          "iopub.status.idle": "2024-03-13T16:47:35.180157Z",
          "shell.execute_reply.started": "2024-03-13T16:47:34.080842Z",
          "shell.execute_reply": "2024-03-13T16:47:35.179259Z"
        },
        "trusted": true,
        "id": "E_VrD3hUqNXj",
        "outputId": "9adb9d12-3bcb-4dab-e7a3-d869e6b7fd3e"
      },
      "execution_count": null,
      "outputs": [
        {
          "name": "stdout",
          "text": "/kaggle/input/it-purple-hack-alpha/cluster_weights.xlsx\n/kaggle/input/it-purple-hack-alpha/train_data.pqt\n/kaggle/input/it-purple-hack-alpha/sample_submission.csv\n/kaggle/input/it-purple-hack-alpha/feature_description.xlsx\n/kaggle/input/it-purple-hack-alpha/test_data.pqt\n",
          "output_type": "stream"
        }
      ]
    },
    {
      "cell_type": "code",
      "source": [
        "import numpy as np\n",
        "import pandas as pd\n",
        "from lightgbm import LGBMClassifier\n",
        "from sklearn.metrics import roc_auc_score\n",
        "from sklearn.model_selection import train_test_split\n",
        "from catboost import CatBoostClassifier\n",
        "import seaborn as sns\n",
        "import matplotlib.pyplot as plt"
      ],
      "metadata": {
        "execution": {
          "iopub.status.busy": "2024-03-13T16:47:35.181956Z",
          "iopub.execute_input": "2024-03-13T16:47:35.182311Z",
          "iopub.status.idle": "2024-03-13T16:47:41.521585Z",
          "shell.execute_reply.started": "2024-03-13T16:47:35.182286Z",
          "shell.execute_reply": "2024-03-13T16:47:41.520799Z"
        },
        "trusted": true,
        "id": "k7ypfLheqNXj",
        "outputId": "637f7a3d-8fc0-4723-9248-6a82afc33777"
      },
      "execution_count": null,
      "outputs": [
        {
          "name": "stderr",
          "text": "/opt/conda/lib/python3.10/site-packages/dask/dataframe/_pyarrow_compat.py:23: UserWarning: You are using pyarrow version 11.0.0 which is known to be insecure. See https://www.cve.org/CVERecord?id=CVE-2023-47248 for further details. Please upgrade to pyarrow>=14.0.1 or install pyarrow-hotfix to patch your current version.\n  warnings.warn(\n",
          "output_type": "stream"
        }
      ]
    },
    {
      "cell_type": "code",
      "source": [
        "train_df = pd.read_parquet('/kaggle/input/it-purple-hack-alpha/train_data.pqt')\n",
        "test_df = pd.read_parquet('/kaggle/input/it-purple-hack-alpha/test_data.pqt')\n",
        "train_df.shape, test_df.shape"
      ],
      "metadata": {
        "execution": {
          "iopub.status.busy": "2024-03-13T16:49:33.525683Z",
          "iopub.execute_input": "2024-03-13T16:49:33.526044Z",
          "iopub.status.idle": "2024-03-13T16:49:36.440578Z",
          "shell.execute_reply.started": "2024-03-13T16:49:33.526017Z",
          "shell.execute_reply": "2024-03-13T16:49:36.439635Z"
        },
        "trusted": true,
        "id": "sN2XMdBGqNXk",
        "outputId": "40dacbe3-5588-4d43-d5fb-655816817fc1"
      },
      "execution_count": null,
      "outputs": [
        {
          "execution_count": 4,
          "output_type": "execute_result",
          "data": {
            "text/plain": "((600000, 93), (290120, 92))"
          },
          "metadata": {}
        }
      ]
    },
    {
      "cell_type": "code",
      "source": [
        "test_df_corr = pd.read_parquet('/kaggle/input/it-purple-hack-alpha/test_data.pqt')"
      ],
      "metadata": {
        "execution": {
          "iopub.status.busy": "2024-03-13T19:56:37.939924Z",
          "iopub.execute_input": "2024-03-13T19:56:37.940759Z",
          "iopub.status.idle": "2024-03-13T19:56:38.281983Z",
          "shell.execute_reply.started": "2024-03-13T19:56:37.940720Z",
          "shell.execute_reply": "2024-03-13T19:56:38.281173Z"
        },
        "trusted": true,
        "id": "jo_XL7A5qNXk"
      },
      "execution_count": null,
      "outputs": []
    },
    {
      "cell_type": "markdown",
      "source": [
        "# Заполнение фичей"
      ],
      "metadata": {
        "id": "gBcR-iadqcFk"
      }
    },
    {
      "cell_type": "code",
      "source": [
        "test_df['start_cluster'].fillna(method='ffill', inplace=True)\n",
        "test_df['start_cluster'].head(30)"
      ],
      "metadata": {
        "execution": {
          "iopub.status.busy": "2024-03-13T16:49:37.180905Z",
          "iopub.execute_input": "2024-03-13T16:49:37.181261Z",
          "iopub.status.idle": "2024-03-13T16:49:37.244124Z",
          "shell.execute_reply.started": "2024-03-13T16:49:37.181230Z",
          "shell.execute_reply": "2024-03-13T16:49:37.243101Z"
        },
        "jupyter": {
          "outputs_hidden": true
        },
        "trusted": true,
        "id": "OGsonGwcqNXk"
      },
      "execution_count": null,
      "outputs": []
    },
    {
      "cell_type": "code",
      "source": [
        "cat_cols = [\n",
        "    \"channel_code\", \"city\", \"city_type\",\n",
        "    \"okved\", \"segment\", \"start_cluster\",\n",
        "    \"index_city_code\", \"ogrn_month\", \"ogrn_year\"\n",
        "]"
      ],
      "metadata": {
        "execution": {
          "iopub.status.busy": "2024-03-13T16:49:53.010882Z",
          "iopub.execute_input": "2024-03-13T16:49:53.011559Z",
          "iopub.status.idle": "2024-03-13T16:49:53.015767Z",
          "shell.execute_reply.started": "2024-03-13T16:49:53.011529Z",
          "shell.execute_reply": "2024-03-13T16:49:53.014805Z"
        },
        "trusted": true,
        "id": "eGswFi5zqNXk"
      },
      "execution_count": null,
      "outputs": []
    },
    {
      "cell_type": "code",
      "source": [
        "basic_col = [\"id\", \"date\", \"end_cluster\"]\n",
        "num_feat = [col for col in train_df.columns if (col not in basic_col) and (col not in cat_cols)]"
      ],
      "metadata": {
        "execution": {
          "iopub.status.busy": "2024-03-13T16:49:56.150186Z",
          "iopub.execute_input": "2024-03-13T16:49:56.150556Z",
          "iopub.status.idle": "2024-03-13T16:49:56.157161Z",
          "shell.execute_reply.started": "2024-03-13T16:49:56.150525Z",
          "shell.execute_reply": "2024-03-13T16:49:56.155787Z"
        },
        "trusted": true,
        "id": "EANFhnBRqNXk"
      },
      "execution_count": null,
      "outputs": []
    },
    {
      "cell_type": "code",
      "source": [
        "train_df[cat_cols] = train_df[cat_cols].astype(\"category\")\n",
        "test_df[cat_cols] = test_df[cat_cols].astype(\"category\")"
      ],
      "metadata": {
        "execution": {
          "iopub.status.busy": "2024-03-13T21:24:08.745685Z",
          "iopub.execute_input": "2024-03-13T21:24:08.746342Z",
          "iopub.status.idle": "2024-03-13T21:24:10.459032Z",
          "shell.execute_reply.started": "2024-03-13T21:24:08.746305Z",
          "shell.execute_reply": "2024-03-13T21:24:10.458158Z"
        },
        "trusted": true,
        "id": "BQsda3PdqNXk"
      },
      "execution_count": null,
      "outputs": []
    },
    {
      "cell_type": "code",
      "source": [
        "selected_features = cat_cols + num_feat\n",
        "len(selected_features)"
      ],
      "metadata": {
        "execution": {
          "iopub.status.busy": "2024-03-13T10:55:28.692024Z",
          "iopub.execute_input": "2024-03-13T10:55:28.692359Z",
          "iopub.status.idle": "2024-03-13T10:55:28.698285Z",
          "shell.execute_reply.started": "2024-03-13T10:55:28.692335Z",
          "shell.execute_reply": "2024-03-13T10:55:28.697372Z"
        },
        "trusted": true,
        "id": "KT-iLy4rqNXk",
        "outputId": "920d9e22-2a14-4e6c-e2cb-02a86a29c9ff"
      },
      "execution_count": null,
      "outputs": [
        {
          "execution_count": 12,
          "output_type": "execute_result",
          "data": {
            "text/plain": "90"
          },
          "metadata": {}
        }
      ]
    },
    {
      "cell_type": "code",
      "source": [
        "clusters = {'{other}': '{other}',\n",
        " '{}': '{}',\n",
        " '{α, β}': '{α, β}',\n",
        " '{α, γ}': '{α, γ}',\n",
        " '{α, δ}': '{α}',\n",
        " '{α, ε, η}': '{α, ε, η}',\n",
        " '{α, ε, θ}': '{α, ε, θ}',\n",
        " '{α, ε, ψ}': '{α, ε, ψ}',\n",
        " '{α, ε}': '{α, ε}',\n",
        " '{α, η}': '{α, η}',\n",
        " '{α, θ}': '{α, θ}',\n",
        " '{α, λ}': '{α, λ}',\n",
        " '{α, μ}': '{α, μ}',\n",
        " '{α, π}': '{other}',\n",
        " '{α, ψ}': '{α, ψ}',\n",
        " '{α}': '{α}',\n",
        " '{λ}': '{α, λ}'}"
      ],
      "metadata": {
        "execution": {
          "iopub.status.busy": "2024-03-13T11:07:30.067342Z",
          "iopub.execute_input": "2024-03-13T11:07:30.067965Z",
          "iopub.status.idle": "2024-03-13T11:07:30.073835Z",
          "shell.execute_reply.started": "2024-03-13T11:07:30.067935Z",
          "shell.execute_reply": "2024-03-13T11:07:30.072799Z"
        },
        "trusted": true,
        "id": "wGedXykLqNXk"
      },
      "execution_count": null,
      "outputs": []
    },
    {
      "cell_type": "code",
      "source": [
        "train_df['end_cluster_1'] = train_df['start_cluster'].map(clusters)\n",
        "test_df['end_cluster_1'] = test_df['start_cluster'].map(clusters)"
      ],
      "metadata": {
        "execution": {
          "iopub.status.busy": "2024-03-13T11:07:47.493514Z",
          "iopub.execute_input": "2024-03-13T11:07:47.494326Z",
          "iopub.status.idle": "2024-03-13T11:07:47.522683Z",
          "shell.execute_reply.started": "2024-03-13T11:07:47.494292Z",
          "shell.execute_reply": "2024-03-13T11:07:47.521931Z"
        },
        "trusted": true,
        "id": "HJrABn6nqNXk"
      },
      "execution_count": null,
      "outputs": []
    },
    {
      "cell_type": "markdown",
      "source": [
        "# Обучение моделей"
      ],
      "metadata": {
        "id": "L02hHvjNqhbE"
      }
    },
    {
      "cell_type": "code",
      "source": [
        "X = train_df.drop([\"id\", \"date\", \"end_cluster\"], axis=1)\n",
        "y = train_df[\"end_cluster\"]\n",
        "\n",
        "x_train, x_val, y_train, y_val = train_test_split(X, y,\n",
        "                                                  test_size=0.2,\n",
        "                                                  random_state=42)"
      ],
      "metadata": {
        "execution": {
          "iopub.status.busy": "2024-03-13T21:16:48.399298Z",
          "iopub.execute_input": "2024-03-13T21:16:48.399676Z",
          "iopub.status.idle": "2024-03-13T21:16:49.479710Z",
          "shell.execute_reply.started": "2024-03-13T21:16:48.399646Z",
          "shell.execute_reply": "2024-03-13T21:16:49.478886Z"
        },
        "trusted": true,
        "id": "4KPK5TBQqNXl"
      },
      "execution_count": null,
      "outputs": []
    },
    {
      "cell_type": "markdown",
      "source": [
        "Знаем, что более 300 000 записей имеют стартовый кластер альфа, для них создим отдальную модель\n",
        "\n",
        "Для остальных - отдельную"
      ],
      "metadata": {
        "id": "rv3h7Uajqj9Q"
      }
    },
    {
      "cell_type": "code",
      "source": [
        "part_1 = train_df[train_df['start_cluster'] == '{α}']\n",
        "\n",
        "part_2 = train_df[~train_df['start_cluster'].isin(['{α}'])]\n",
        "\n",
        "train_dfs = [part_1, part_2]\n",
        "models = []\n",
        "number = 0\n",
        "selected_features\n",
        "for df in train_dfs:\n",
        "    X = df.drop([\"id\", \"date\", \"end_cluster\"], axis=1)\n",
        "    y = df[\"end_cluster\"]\n",
        "\n",
        "    x_train, x_val, y_train, y_val = train_test_split(X, y,\n",
        "                                                      test_size=0.2,\n",
        "                                                      random_state=42)\n",
        "    model = CatBoostClassifier(iterations=1000,\n",
        "                               verbose=False,\n",
        "                               learning_rate=0.1,\n",
        "                               random_state=42,\n",
        "                               depth=6,\n",
        "                               cat_features=cat_feat,\n",
        "                               task_type=\"GPU\",\n",
        "                               loss_function='MultiClass')\n",
        "    model.fit(x_train[selected_features], y_train)\n",
        "    y_pred_proba = model.predict_proba(x_val[selected_features])\n",
        "    wr = weighted_roc_auc(y_val, y_pred_proba, model.classes_, weights_dict)\n",
        "    print(f'Номер датафрейма  {number} w_roc_auc  {wr}')\n",
        "    models.append(model)\n",
        "    number += 1"
      ],
      "metadata": {
        "execution": {
          "iopub.status.busy": "2024-03-13T13:43:09.100865Z",
          "iopub.execute_input": "2024-03-13T13:43:09.101989Z",
          "iopub.status.idle": "2024-03-13T13:44:20.501861Z",
          "shell.execute_reply.started": "2024-03-13T13:43:09.101956Z",
          "shell.execute_reply": "2024-03-13T13:44:20.500696Z"
        },
        "trusted": true,
        "id": "0A9VU5McqNXl",
        "outputId": "83004da6-a4e3-483c-928f-7b62655bb0d3"
      },
      "execution_count": null,
      "outputs": [
        {
          "name": "stdout",
          "text": "Номер датафрейма  0 w_roc_auc  0.8852152558538978\nНомер датафрейма  1 w_roc_auc  0.9499420664287692\n",
          "output_type": "stream"
        }
      ]
    },
    {
      "cell_type": "code",
      "source": [
        "def weighted_roc_auc(y_true, y_pred, labels, weights_dict):\n",
        "    unnorm_weights = np.array([weights_dict[label] for label in labels])\n",
        "    weights = unnorm_weights / unnorm_weights.sum()\n",
        "    classes_roc_auc = roc_auc_score(y_true, y_pred, labels=labels,\n",
        "                                    multi_class=\"ovr\", average=None)\n",
        "    return sum(weights * classes_roc_auc)"
      ],
      "metadata": {
        "id": "rN97g1gWqzCN"
      },
      "execution_count": null,
      "outputs": []
    },
    {
      "cell_type": "code",
      "source": [
        "cluster_weights = pd.read_excel(\"/kaggle/input/it-purple-hack-alpha/cluster_weights.xlsx\").set_index(\"cluster\")\n",
        "weights_dict = cluster_weights[\"unnorm_weight\"].to_dict()"
      ],
      "metadata": {
        "execution": {
          "iopub.status.busy": "2024-03-13T16:55:00.591096Z",
          "iopub.execute_input": "2024-03-13T16:55:00.591927Z",
          "iopub.status.idle": "2024-03-13T16:55:00.964890Z",
          "shell.execute_reply.started": "2024-03-13T16:55:00.591891Z",
          "shell.execute_reply": "2024-03-13T16:55:00.964091Z"
        },
        "trusted": true,
        "id": "SXuFdIvmqNXl"
      },
      "execution_count": null,
      "outputs": []
    },
    {
      "cell_type": "markdown",
      "source": [
        "К сожалению, не успели доработать, но идея кажется перспективной"
      ],
      "metadata": {
        "id": "bHcki6HTq6Zn"
      }
    }
  ]
}